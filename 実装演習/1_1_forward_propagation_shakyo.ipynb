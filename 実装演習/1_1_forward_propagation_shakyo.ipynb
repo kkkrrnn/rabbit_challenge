{
  "nbformat": 4,
  "nbformat_minor": 0,
  "metadata": {
    "colab": {
      "name": "1_1_forward_propagation_shakyo.ipynb",
      "provenance": [],
      "collapsed_sections": []
    },
    "kernelspec": {
      "name": "python3",
      "display_name": "Python 3"
    },
    "language_info": {
      "name": "python"
    }
  },
  "cells": [
    {
      "cell_type": "code",
      "execution_count": 1,
      "metadata": {
        "id": "P1Q6GN57XgUh",
        "colab": {
          "base_uri": "https://localhost:8080/"
        },
        "outputId": "ba629c10-da17-46dd-f8bc-20fc4e8e74a2"
      },
      "outputs": [
        {
          "output_type": "stream",
          "name": "stdout",
          "text": [
            "Mounted at /content/drive\n"
          ]
        }
      ],
      "source": [
        "# googleドライブのマウント\n",
        "from google.colab import drive\n",
        "drive.mount('/content/drive')"
      ]
    },
    {
      "cell_type": "code",
      "source": [
        "# sys.pathの設定\n",
        "import sys\n",
        "sys.path.append('/content/drive/My Drive/DNN_code')"
      ],
      "metadata": {
        "id": "XpF3HxQHZNoL"
      },
      "execution_count": 2,
      "outputs": []
    },
    {
      "cell_type": "code",
      "source": [
        "# importと関数定義\n",
        "import numpy as np\n",
        "from common import functions\n",
        "\n",
        "def print_vec(text, vec):\n",
        "  print('***' + text + '***')\n",
        "  print(vec)\n",
        "  print('')"
      ],
      "metadata": {
        "id": "VsAXtGzPZ9h5"
      },
      "execution_count": 3,
      "outputs": []
    },
    {
      "cell_type": "markdown",
      "source": [
        "順伝播（単層・単ユニット）"
      ],
      "metadata": {
        "id": "5Gk7xcVhba9v"
      }
    },
    {
      "cell_type": "code",
      "source": [
        "# 重み\n",
        "W = np.array([[0.1], [0.2]])\n",
        "\n",
        "# 配列の初期化\n",
        "print(np.zeros(2))\n",
        "print(np.ones(2))\n",
        "print(np.random.rand(2))\n",
        "print(np.random.randint(5, size=(2)))"
      ],
      "metadata": {
        "colab": {
          "base_uri": "https://localhost:8080/"
        },
        "id": "4M2-5eIgbk56",
        "outputId": "3f8e0e76-e05c-4f62-dccc-70f7413c34b6"
      },
      "execution_count": 4,
      "outputs": [
        {
          "output_type": "stream",
          "name": "stdout",
          "text": [
            "[0. 0.]\n",
            "[1. 1.]\n",
            "[0.66012116 0.42621862]\n",
            "[4 1]\n"
          ]
        }
      ]
    },
    {
      "cell_type": "code",
      "source": [
        "print_vec('重み', W)"
      ],
      "metadata": {
        "colab": {
          "base_uri": "https://localhost:8080/"
        },
        "id": "7aUcMXNXcOvX",
        "outputId": "6c2b9432-2e0b-4706-867b-4d7c9182f1d6"
      },
      "execution_count": 5,
      "outputs": [
        {
          "output_type": "stream",
          "name": "stdout",
          "text": [
            "***重み***\n",
            "[[0.1]\n",
            " [0.2]]\n",
            "\n"
          ]
        }
      ]
    },
    {
      "cell_type": "code",
      "source": [
        "# バイアス\n",
        "b = 0.5\n",
        "print_vec('バイアス', b)\n",
        "\n",
        "print(np.random.rand()) # 0~1のランダム数値\n",
        "print((np.random.rand() * 10) -5)  # -5~5のランダム数値"
      ],
      "metadata": {
        "colab": {
          "base_uri": "https://localhost:8080/"
        },
        "id": "lB-u--ficYjT",
        "outputId": "c7386a04-729e-4d85-b10a-4ba2db7c17c0"
      },
      "execution_count": 6,
      "outputs": [
        {
          "output_type": "stream",
          "name": "stdout",
          "text": [
            "***バイアス***\n",
            "0.5\n",
            "\n",
            "0.9119481629174747\n",
            "2.44848720042037\n"
          ]
        }
      ]
    },
    {
      "cell_type": "code",
      "source": [
        "# 入力値\n",
        "x = np.array([2,3])\n",
        "print_vec('入力', x)\n",
        "\n",
        "# 総入力\n",
        "u = np.dot(x, W) + b\n",
        "print_vec('総入力', u)\n",
        "\n",
        "# 中間層出力\n",
        "z = functions.relu(u)\n",
        "print_vec('中間層出力', z)"
      ],
      "metadata": {
        "colab": {
          "base_uri": "https://localhost:8080/"
        },
        "id": "83LY4_D-c4tr",
        "outputId": "d26b4c2a-5978-43e3-93e7-4cde2134378d"
      },
      "execution_count": 7,
      "outputs": [
        {
          "output_type": "stream",
          "name": "stdout",
          "text": [
            "***入力***\n",
            "[2 3]\n",
            "\n",
            "***総入力***\n",
            "[1.3]\n",
            "\n",
            "***中間層出力***\n",
            "[1.3]\n",
            "\n"
          ]
        }
      ]
    },
    {
      "cell_type": "markdown",
      "source": [
        "順伝播（単層・複数ユニット）"
      ],
      "metadata": {
        "id": "h_zQEtENdW8K"
      }
    },
    {
      "cell_type": "code",
      "source": [
        "# 重み\n",
        "W = np.array([\n",
        "              [0.1, 0.2, 0.3],\n",
        "              [0.2, 0.3, 0.4],\n",
        "              [0.3, 0.4, 0.5],\n",
        "              [0.4, 0.5, 0.6]\n",
        "])\n",
        "\n",
        "print_vec('重み', W)"
      ],
      "metadata": {
        "colab": {
          "base_uri": "https://localhost:8080/"
        },
        "id": "IJpBi4p1eySE",
        "outputId": "31a3da4f-6fdc-465e-9ae2-e72c266349a6"
      },
      "execution_count": 8,
      "outputs": [
        {
          "output_type": "stream",
          "name": "stdout",
          "text": [
            "***重み***\n",
            "[[0.1 0.2 0.3]\n",
            " [0.2 0.3 0.4]\n",
            " [0.3 0.4 0.5]\n",
            " [0.4 0.5 0.6]]\n",
            "\n"
          ]
        }
      ]
    },
    {
      "cell_type": "code",
      "source": [
        "# バイアス\n",
        "b = np.array([0.1, 0.2, 0.3])\n",
        "print_vec('バイアス', b)"
      ],
      "metadata": {
        "colab": {
          "base_uri": "https://localhost:8080/"
        },
        "id": "LIgHieZ2fGJB",
        "outputId": "284ca15d-04ca-43f9-f1ba-0737fe1e8115"
      },
      "execution_count": 9,
      "outputs": [
        {
          "output_type": "stream",
          "name": "stdout",
          "text": [
            "***バイアス***\n",
            "[0.1 0.2 0.3]\n",
            "\n"
          ]
        }
      ]
    },
    {
      "cell_type": "code",
      "source": [
        "# 入力値\n",
        "x = np.array([1.0, 5.0, 2.0, -1.0])\n",
        "print_vec('入力', x)\n",
        "\n",
        "# 総入力\n",
        "u = np.dot(x, W) + b\n",
        "print_vec('総入力', u)\n",
        "\n",
        "# 中間層出力\n",
        "z = functions.sigmoid(u)\n",
        "print_vec('中間層出力', z)"
      ],
      "metadata": {
        "colab": {
          "base_uri": "https://localhost:8080/"
        },
        "id": "UCQChXXhfNyx",
        "outputId": "1319605f-88fa-4fd9-922b-5901887cd931"
      },
      "execution_count": 10,
      "outputs": [
        {
          "output_type": "stream",
          "name": "stdout",
          "text": [
            "***入力***\n",
            "[ 1.  5.  2. -1.]\n",
            "\n",
            "***総入力***\n",
            "[1.4 2.2 3. ]\n",
            "\n",
            "***中間層出力***\n",
            "[0.80218389 0.90024951 0.95257413]\n",
            "\n"
          ]
        }
      ]
    },
    {
      "cell_type": "markdown",
      "source": [
        "順伝播（3層・複数ユニット）"
      ],
      "metadata": {
        "id": "ao07rvn0g-7U"
      }
    },
    {
      "cell_type": "code",
      "source": [
        "# 重みとバイアスを定義\n",
        "def init_network():\n",
        "    print(\"##### ネットワークの初期化 #####\")\n",
        "    network = {}\n",
        "        \n",
        "    network['W1'] = np.array([\n",
        "        [0.1, 0.3, 0.5],\n",
        "        [0.2, 0.4, 0.6]\n",
        "    ])\n",
        "    network['W2'] = np.array([\n",
        "        [0.1, 0.4],\n",
        "        [0.2, 0.5],\n",
        "        [0.3, 0.6]\n",
        "    ])\n",
        "    network['W3'] = np.array([\n",
        "        [0.1, 0.3],\n",
        "        [0.2, 0.4]\n",
        "    ])\n",
        "    network['b1'] = np.array([0.1, 0.2, 0.3])\n",
        "    network['b2'] = np.array([0.1, 0.2])\n",
        "    network['b3'] = np.array([1, 2])\n",
        "\n",
        "    print_vec(\"重み1\", network['W1'] )\n",
        "    print_vec(\"重み2\", network['W2'] )\n",
        "    print_vec(\"重み3\", network['W3'] )\n",
        "    print_vec(\"バイアス1\", network['b1'] )\n",
        "    print_vec(\"バイアス2\", network['b2'] )\n",
        "    print_vec(\"バイアス3\", network['b3'] )\n",
        "\n",
        "    return network\n",
        "\n",
        "# 順伝播処理\n",
        "def forward(network, x):\n",
        "    \n",
        "    print(\"##### 順伝播開始 #####\")\n",
        "\n",
        "    W1, W2, W3 = network['W1'], network['W2'], network['W3']\n",
        "    b1, b2, b3 = network['b1'], network['b2'], network['b3']\n",
        "    \n",
        "    # 1層の総入力\n",
        "    u1 = np.dot(x, W1) + b1\n",
        "    \n",
        "    # 1層の総出力\n",
        "    z1 = functions.relu(u1)\n",
        "    \n",
        "    # 2層の総入力\n",
        "    u2 = np.dot(z1, W2) + b2\n",
        "    \n",
        "    # 2層の総出力\n",
        "    z2 = functions.relu(u2)\n",
        "\n",
        "    # 出力層の総入力\n",
        "    u3 = np.dot(z2, W3) + b3\n",
        "    \n",
        "    # 出力層の総出力\n",
        "    y = u3\n",
        "    \n",
        "    print_vec(\"総入力1\", u1)\n",
        "    print_vec(\"中間層出力1\", z1)\n",
        "    print_vec(\"総入力2\", u2)\n",
        "    print_vec(\"出力2\", z2)\n",
        "    print(\"出力合計: \" + str(np.sum(z1)))\n",
        "\n",
        "    return y, z1, z2\n",
        "\n",
        "# 入力値\n",
        "x = np.array([1., 2.])\n",
        "print_vec(\"入力\", x)\n",
        "\n",
        "# ネットワークの初期化\n",
        "network =  init_network()\n",
        "\n",
        "y, z1, z2 = forward(network, x)\n",
        "print('出力y', y)"
      ],
      "metadata": {
        "colab": {
          "base_uri": "https://localhost:8080/"
        },
        "id": "CH30RoSWpm0E",
        "outputId": "ceaa5c1d-5793-4798-a93d-465b2a3ec8f3"
      },
      "execution_count": 14,
      "outputs": [
        {
          "output_type": "stream",
          "name": "stdout",
          "text": [
            "***入力***\n",
            "[1. 2.]\n",
            "\n",
            "##### ネットワークの初期化 #####\n",
            "***重み1***\n",
            "[[0.1 0.3 0.5]\n",
            " [0.2 0.4 0.6]]\n",
            "\n",
            "***重み2***\n",
            "[[0.1 0.4]\n",
            " [0.2 0.5]\n",
            " [0.3 0.6]]\n",
            "\n",
            "***重み3***\n",
            "[[0.1 0.3]\n",
            " [0.2 0.4]]\n",
            "\n",
            "***バイアス1***\n",
            "[0.1 0.2 0.3]\n",
            "\n",
            "***バイアス2***\n",
            "[0.1 0.2]\n",
            "\n",
            "***バイアス3***\n",
            "[1 2]\n",
            "\n",
            "##### 順伝播開始 #####\n",
            "***総入力1***\n",
            "[0.6 1.3 2. ]\n",
            "\n",
            "***中間層出力1***\n",
            "[0.6 1.3 2. ]\n",
            "\n",
            "***総入力2***\n",
            "[1.02 2.29]\n",
            "\n",
            "***出力2***\n",
            "[1.02 2.29]\n",
            "\n",
            "出力合計: 3.9\n",
            "出力y [1.56  3.222]\n"
          ]
        }
      ]
    },
    {
      "cell_type": "markdown",
      "source": [
        "多クラス分類（2-3-4ネットワーク）"
      ],
      "metadata": {
        "id": "XJJK2l-Mjwdm"
      }
    },
    {
      "cell_type": "code",
      "source": [
        "# 重みとバイアスを設定\n",
        "def init_network():\n",
        "    print(\"##### ネットワークの初期化 #####\")\n",
        "\n",
        "    network = {}\n",
        "    network['W1'] = np.array([\n",
        "        [0.1, 0.3, 0.5],\n",
        "        [0.2, 0.4, 0.6]\n",
        "    ])\n",
        "    network['W2'] = np.array([\n",
        "        [0.1, 0.4, 0.7, 1.0],\n",
        "        [0.2, 0.5, 0.8, 1.1],\n",
        "        [0.3, 0.6, 0.9, 1.2]\n",
        "    ])\n",
        "    network['b1'] = np.array([0.1, 0.2, 0.3])\n",
        "    network['b2'] = np.array([0.1, 0.2, 0.3, 0.4])\n",
        "    \n",
        "    print_vec(\"重み1\", network['W1'] )\n",
        "    print_vec(\"重み2\", network['W2'] )\n",
        "    print_vec(\"バイアス1\", network['b1'] )\n",
        "    print_vec(\"バイアス2\", network['b2'] )\n",
        "\n",
        "    return network"
      ],
      "metadata": {
        "id": "YuT7PfFckB6Q"
      },
      "execution_count": 15,
      "outputs": []
    },
    {
      "cell_type": "code",
      "source": [
        "# 順伝播処理\n",
        "# x：入力値\n",
        "def forward(network, x):\n",
        "    print(\"##### 順伝播開始 #####\")\n",
        "    W1, W2 = network['W1'], network['W2']\n",
        "    b1, b2 = network['b1'], network['b2']\n",
        "    \n",
        "    # 1層の総入力\n",
        "    u1 = np.dot(x, W1) + b1\n",
        "\n",
        "    # 1層の総出力\n",
        "    z1 = functions.relu(u1)\n",
        "\n",
        "    # 2層の総入力\n",
        "    u2 = np.dot(z1, W2) + b2\n",
        "    \n",
        "    # 出力値\n",
        "    y = functions.softmax(u2)\n",
        "    \n",
        "    print_vec(\"総入力1\", u1)\n",
        "    print_vec(\"中間層出力1\", z1)\n",
        "    print_vec(\"総入力2\", u2)\n",
        "    print_vec(\"出力\", y)\n",
        "    print(\"出力合計: \" + str(np.sum(y)))\n",
        "        \n",
        "    return y, z1\n",
        "\n",
        "# 入力値\n",
        "x = np.array([1., 2.])\n",
        "\n",
        "# 目標出力\n",
        "d = np.array([0, 0, 0, 1])\n",
        "\n",
        "# ネットワークの初期化\n",
        "network =  init_network()\n",
        "\n",
        "# 出力\n",
        "y, z1 = forward(network, x)\n",
        "\n",
        "# 誤差\n",
        "loss = functions.cross_entropy_error(d, y)\n",
        "\n",
        "## 表示\n",
        "print(\"\\n##### 結果表示 #####\")\n",
        "print_vec(\"出力\", y)\n",
        "print_vec(\"訓練データ\", d)\n",
        "print_vec(\"誤差\",  loss)"
      ],
      "metadata": {
        "colab": {
          "base_uri": "https://localhost:8080/"
        },
        "id": "IH9kDjQNkTlm",
        "outputId": "051b4fe6-d456-4698-cbfe-e00d74fb30eb"
      },
      "execution_count": 16,
      "outputs": [
        {
          "output_type": "stream",
          "name": "stdout",
          "text": [
            "##### ネットワークの初期化 #####\n",
            "***重み1***\n",
            "[[0.1 0.3 0.5]\n",
            " [0.2 0.4 0.6]]\n",
            "\n",
            "***重み2***\n",
            "[[0.1 0.4 0.7 1. ]\n",
            " [0.2 0.5 0.8 1.1]\n",
            " [0.3 0.6 0.9 1.2]]\n",
            "\n",
            "***バイアス1***\n",
            "[0.1 0.2 0.3]\n",
            "\n",
            "***バイアス2***\n",
            "[0.1 0.2 0.3 0.4]\n",
            "\n",
            "##### 順伝播開始 #####\n",
            "***総入力1***\n",
            "[0.6 1.3 2. ]\n",
            "\n",
            "***中間層出力1***\n",
            "[0.6 1.3 2. ]\n",
            "\n",
            "***総入力2***\n",
            "[1.02 2.29 3.56 4.83]\n",
            "\n",
            "***出力***\n",
            "[0.01602796 0.05707321 0.20322929 0.72366954]\n",
            "\n",
            "出力合計: 1.0\n",
            "\n",
            "##### 結果表示 #####\n",
            "***出力***\n",
            "[0.01602796 0.05707321 0.20322929 0.72366954]\n",
            "\n",
            "***訓練データ***\n",
            "[0 0 0 1]\n",
            "\n",
            "***誤差***\n",
            "0.3234202933601941\n",
            "\n"
          ]
        }
      ]
    },
    {
      "cell_type": "markdown",
      "source": [
        "回帰(2-3-2ネットワーク)\n"
      ],
      "metadata": {
        "id": "MiEEWr99khcm"
      }
    },
    {
      "cell_type": "code",
      "source": [
        "# 重みとバイアスの初期値を設定\n",
        "def init_network():\n",
        "  network = {}\n",
        "  network['W1'] = np.array([\n",
        "    [0.1, 0.3, 0.5],\n",
        "    [0.2, 0.4, 0.6]          \n",
        "  ])\n",
        "  network['W2'] = np.array([\n",
        "    [0.1, 0.4],\n",
        "    [0.2, 0.5],\n",
        "    [0.3, 0.6]\n",
        "  ])\n",
        "\n",
        "  network['b1'] = np.array([0.1, 0.2, 0.3])\n",
        "  network['b2'] = np.array([0.1, 0.2])\n",
        "\n",
        "  return network\n",
        "\n",
        "# 順伝播処理\n",
        "def forward(network, x):\n",
        "  W1, W2 = network['W1'], network['W2']\n",
        "  b1, b2 = network['b1'], network['b2']\n",
        "\n",
        "  # 隠れ層の総入力\n",
        "  u1 = np.dot(x, W1) + b1\n",
        "  # 隠れ層の総出力\n",
        "  z1 = functions.relu(u1)\n",
        "  # 出力層の総入力\n",
        "  u2 = np.dot(z1, W2) + b2\n",
        "  # 出力層の総出力\n",
        "  y = u2\n",
        "\n",
        "  print_vec('総入力1', u1)\n",
        "  print_vec('中間層出力1', z1)\n",
        "  print_vec('総入力2', u2)\n",
        "  print_vec('出力', y)\n",
        "  print('出力合計:' + str(np.sum(y)))\n",
        "\n",
        "  return y, z1\n",
        "\n",
        "\n"
      ],
      "metadata": {
        "id": "Al4SIXSJd2v-"
      },
      "execution_count": 25,
      "outputs": []
    },
    {
      "cell_type": "code",
      "source": [
        "# 入力値\n",
        "x = np.array([1., 2.])\n",
        "network = init_network()\n",
        "y, z1 = forward(network, x)\n",
        "\n",
        "# 目標値出力\n",
        "d = np.array([2., 4.])\n",
        "# 誤差\n",
        "loss = functions.mean_squared_error(d, y)\n",
        "\n",
        "\n",
        "print_vec('中間層出力', z1)\n",
        "print_vec('出力', y)\n",
        "print_vec('訓練データ', d)\n",
        "print_vec('誤差', loss)\n"
      ],
      "metadata": {
        "colab": {
          "base_uri": "https://localhost:8080/"
        },
        "id": "4dHuAyuvfYum",
        "outputId": "8f7015c7-237b-438f-b692-84dfa9da1b78"
      },
      "execution_count": 26,
      "outputs": [
        {
          "output_type": "stream",
          "name": "stdout",
          "text": [
            "***総入力1***\n",
            "[0.6 1.3 2. ]\n",
            "\n",
            "***中間層出力1***\n",
            "[0.6 1.3 2. ]\n",
            "\n",
            "***総入力2***\n",
            "[1.02 2.29]\n",
            "\n",
            "***出力***\n",
            "[1.02 2.29]\n",
            "\n",
            "出力合計:3.31\n",
            "***中間層出力***\n",
            "[0.6 1.3 2. ]\n",
            "\n",
            "***出力***\n",
            "[1.02 2.29]\n",
            "\n",
            "***訓練データ***\n",
            "[2. 4.]\n",
            "\n",
            "***誤差***\n",
            "0.9711249999999999\n",
            "\n"
          ]
        }
      ]
    },
    {
      "cell_type": "markdown",
      "source": [
        "二値分類(2-3-1ネットワーク）"
      ],
      "metadata": {
        "id": "Y3pGG7U6gywh"
      }
    },
    {
      "cell_type": "code",
      "source": [
        "# 重みとバイアスの初期値を設定\n",
        "def init_network():\n",
        "  network = {}\n",
        "  network['W1'] = np.array([\n",
        "    [0.1, 0.3, 0.5],\n",
        "    [0.2, 0.4, 0.6]          \n",
        "  ])\n",
        "  network['W2'] = np.array([\n",
        "    [0.2],\n",
        "    [0.4],\n",
        "    [0.6]\n",
        "  ])\n",
        "\n",
        "  network['b1'] = np.array([0.1, 0.2, 0.3])\n",
        "  network['b2'] = np.array([0.1])\n",
        "\n",
        "  return network\n",
        "\n",
        "# 順伝播処理\n",
        "def forward(network, x):\n",
        "  W1, W2 = network['W1'], network['W2']\n",
        "  b1, b2 = network['b1'], network['b2']\n",
        "\n",
        "  # 隠れ層の総入力\n",
        "  u1 = np.dot(x, W1) + b1\n",
        "  # 隠れ層の総出力\n",
        "  z1 = functions.relu(u1)\n",
        "  # 出力層の総入力\n",
        "  u2 = np.dot(z1, W2) + b2\n",
        "  # 出力層の総出力\n",
        "  y = functions.sigmoid(u2)\n",
        "\n",
        "  print_vec('総入力1', u1)\n",
        "  print_vec('中間層出力1', z1)\n",
        "  print_vec('総入力2', u2)\n",
        "  print_vec('出力', y)\n",
        "  print('出力合計:' + str(np.sum(y)))\n",
        "\n",
        "  return y, z1"
      ],
      "metadata": {
        "id": "LZCWeeGYkhGm"
      },
      "execution_count": 27,
      "outputs": []
    },
    {
      "cell_type": "code",
      "source": [
        "# 入力値\n",
        "x = np.array([1., 2.])\n",
        "network = init_network()\n",
        "y, z1 = forward(network, x)\n",
        "\n",
        "# 目標値出力\n",
        "d = np.array([1])\n",
        "# 誤差\n",
        "loss = functions.cross_entropy_error(d, y)\n",
        "\n",
        "\n",
        "print_vec('中間層出力', z1)\n",
        "print_vec('出力', y)\n",
        "print_vec('訓練データ', d)\n",
        "print_vec('誤差', loss)"
      ],
      "metadata": {
        "colab": {
          "base_uri": "https://localhost:8080/"
        },
        "id": "Qn5oU1wlk6fi",
        "outputId": "cbefac47-207b-4119-dbc7-63af59ea64c8"
      },
      "execution_count": 28,
      "outputs": [
        {
          "output_type": "stream",
          "name": "stdout",
          "text": [
            "***総入力1***\n",
            "[0.6 1.3 2. ]\n",
            "\n",
            "***中間層出力1***\n",
            "[0.6 1.3 2. ]\n",
            "\n",
            "***総入力2***\n",
            "[1.94]\n",
            "\n",
            "***出力***\n",
            "[0.87435214]\n",
            "\n",
            "出力合計:0.8743521434846544\n",
            "***中間層出力***\n",
            "[0.6 1.3 2. ]\n",
            "\n",
            "***出力***\n",
            "[0.87435214]\n",
            "\n",
            "***訓練データ***\n",
            "[1]\n",
            "\n",
            "***誤差***\n",
            "0.13427195993720972\n",
            "\n"
          ]
        }
      ]
    },
    {
      "cell_type": "code",
      "source": [
        ""
      ],
      "metadata": {
        "id": "4zouTxH9lGLN"
      },
      "execution_count": null,
      "outputs": []
    }
  ]
}