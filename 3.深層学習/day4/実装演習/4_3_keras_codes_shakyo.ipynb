{
  "nbformat": 4,
  "nbformat_minor": 0,
  "metadata": {
    "colab": {
      "name": "4_3_keras_codes_shakyo.ipynb",
      "provenance": [],
      "collapsed_sections": []
    },
    "kernelspec": {
      "name": "python3",
      "display_name": "Python 3"
    },
    "language_info": {
      "name": "python"
    }
  },
  "cells": [
    {
      "cell_type": "code",
      "execution_count": 1,
      "metadata": {
        "colab": {
          "base_uri": "https://localhost:8080/"
        },
        "id": "vT54UEGDUZ-n",
        "outputId": "640e4a64-f00e-4082-a45f-79a3e9100c71"
      },
      "outputs": [
        {
          "output_type": "stream",
          "name": "stdout",
          "text": [
            "TensorFlow 1.x selected.\n"
          ]
        }
      ],
      "source": [
        "# バージョン指定\n",
        "%tensorflow_version 1.x"
      ]
    },
    {
      "cell_type": "code",
      "source": [
        "from google.colab import drive\n",
        "drive.mount('/content/drive')"
      ],
      "metadata": {
        "colab": {
          "base_uri": "https://localhost:8080/"
        },
        "id": "D_PK1jJgVJSN",
        "outputId": "f1050679-147a-40cb-b8d0-bb1aee3e79b8"
      },
      "execution_count": 2,
      "outputs": [
        {
          "output_type": "stream",
          "name": "stdout",
          "text": [
            "Mounted at /content/drive\n"
          ]
        }
      ]
    },
    {
      "cell_type": "code",
      "source": [
        "# sys.pathの設定\n",
        "import sys\n",
        "sys.path.append('/content/drive/My Drive/DNN_code')"
      ],
      "metadata": {
        "id": "Vqd6HqVEVPbv"
      },
      "execution_count": 3,
      "outputs": []
    },
    {
      "cell_type": "markdown",
      "source": [
        "keras     \n",
        "線形回帰"
      ],
      "metadata": {
        "id": "RYvYwUj4VZiN"
      }
    },
    {
      "cell_type": "code",
      "source": [
        "import tensorflow as tf\n",
        "\n",
        "# logging levelを変更\n",
        "tf.logging.set_verbosity(tf.logging.ERROR)\n",
        "\n",
        "import numpy as np\n",
        "import matplotlib.pyplot as plt\n",
        "\n",
        "iters_num = 1000\n",
        "plot_interval = 10\n",
        "\n",
        "# -1 から　１　までの等差数列を生成\n",
        "x = np.linspace(-1, 1, 200)\n",
        "np.random.shuffle(x)\n",
        "d = 0.5 * x + 2 + np.random.normal(0, 0.05, (200,))\n",
        "\n",
        "print(x)\n",
        "print(d)\n"
      ],
      "metadata": {
        "colab": {
          "base_uri": "https://localhost:8080/"
        },
        "id": "uJYWPtClVgbl",
        "outputId": "0a44af1a-4eae-45db-b5c0-225931a26bf6"
      },
      "execution_count": 5,
      "outputs": [
        {
          "output_type": "stream",
          "name": "stdout",
          "text": [
            "[-0.39698492  0.53768844 -0.47738693  0.42713568 -0.36683417  0.37688442\n",
            "  0.50753769 -0.35678392 -0.78894472  0.05527638  0.00502513  0.64824121\n",
            " -0.07537688 -0.94974874  0.09547739  0.2361809  -0.70854271 -0.95979899\n",
            "  0.10552764  0.82914573 -0.33668342 -0.6281407  -0.08542714 -0.2160804\n",
            " -0.5879397   0.85929648 -0.09547739  0.44723618 -0.79899497 -0.49748744\n",
            "  0.93969849  0.72864322  0.45728643 -0.48743719 -0.74874372 -0.77889447\n",
            " -0.11557789 -0.02512563  0.88944724  0.86934673  0.26633166 -0.1959799\n",
            "  0.90954774 -0.66834171 -0.93969849 -0.01507538  0.68844221  0.43718593\n",
            " -0.76884422 -0.85929648  0.40703518 -0.31658291  0.52763819 -0.38693467\n",
            "  0.77889447 -0.16582915  0.03517588 -0.63819095  0.70854271  0.20603015\n",
            "  0.75879397 -0.83919598 -0.71859296  0.9798995   0.65829146 -0.90954774\n",
            " -0.51758794  0.66834171  0.78894472  0.46733668 -1.          0.29648241\n",
            " -0.69849246  0.24623116  0.63819095 -0.55778894  0.15577889 -0.64824121\n",
            "  0.38693467  0.18592965 -0.5678392   0.83919598 -0.26633166  0.41708543\n",
            "  0.47738693 -0.72864322  0.95979899 -0.89949749  0.94974874  0.08542714\n",
            " -0.86934673 -0.32663317 -0.98994975  0.01507538 -0.22613065  1.\n",
            " -0.25628141  0.48743719 -0.37688442  0.76884422  0.81909548  0.5678392\n",
            "  0.71859296  0.33668342 -0.81909548  0.27638191 -0.65829146  0.11557789\n",
            " -0.73869347 -0.12562814 -0.88944724 -0.53768844  0.67839196 -0.46733668\n",
            " -0.84924623 -0.1758794  -0.87939698 -0.68844221  0.32663317  0.06532663\n",
            " -0.40703518 -0.03517588 -0.00502513  0.6281407  -0.44723618  0.39698492\n",
            "  0.02512563  0.80904523  0.61809045 -0.67839196 -0.41708543 -0.75879397\n",
            " -0.30653266  0.1959799   0.98994975  0.59798995  0.54773869  0.16582915\n",
            "  0.5879397   0.87939698 -0.27638191  0.73869347 -0.61809045 -0.42713568\n",
            "  0.79899497 -0.13567839 -0.24623116 -0.05527638  0.2160804   0.28643216\n",
            "  0.34673367 -0.45728643  0.69849246  0.14572864  0.84924623  0.35678392\n",
            " -0.96984925 -0.14572864  0.22613065 -0.92964824  0.89949749 -0.28643216\n",
            "  0.51758794 -0.91959799  0.12562814  0.31658291 -0.59798995 -0.34673367\n",
            " -0.80904523  0.6080402  -0.9798995  -0.6080402  -0.15577889 -0.10552764\n",
            "  0.36683417 -0.2361809   0.13567839  0.30653266  0.49748744 -0.06532663\n",
            "  0.04522613 -0.04522613 -0.50753769  0.91959799  0.74874372 -0.52763819\n",
            "  0.1758794  -0.29648241  0.92964824 -0.20603015 -0.18592965 -0.57788945\n",
            " -0.43718593  0.55778894  0.07537688  0.96984925  0.57788945  0.25628141\n",
            " -0.54773869 -0.82914573]\n",
            "[1.86315297 2.2219619  1.73666857 2.17419029 1.81734304 2.11856045\n",
            " 2.30217263 1.87350377 1.57778434 2.01859783 2.02698928 2.29896691\n",
            " 1.99902406 1.55928701 2.06748996 2.02761771 1.65703069 1.59553328\n",
            " 1.99332695 2.41323826 1.81808599 1.6725889  1.96655173 1.83837431\n",
            " 1.70597208 2.44487928 1.94039026 2.22122612 1.63674481 1.67820272\n",
            " 2.47246037 2.44064256 2.2225246  1.7230124  1.66549839 1.53686348\n",
            " 1.87762837 1.91827389 2.44263846 2.49398315 2.11724139 1.97687444\n",
            " 2.44725023 1.6424346  1.59776706 1.95473613 2.32079675 2.26751612\n",
            " 1.6784222  1.57134322 2.23926158 1.95267981 2.23127854 1.72000102\n",
            " 2.45535086 1.96460582 1.9598013  1.68255186 2.35030992 2.1705251\n",
            " 2.42628333 1.58045119 1.61161815 2.41746956 2.2939769  1.5496501\n",
            " 1.79476065 2.34684224 2.37858389 2.24718432 1.49765862 2.11137165\n",
            " 1.71817932 2.0817277  2.34080236 1.73003323 2.11853292 1.63877054\n",
            " 2.17981579 2.08723084 1.72678466 2.38633098 1.95207029 2.28771556\n",
            " 2.32160099 1.59606389 2.43035459 1.49923136 2.51765676 2.02508984\n",
            " 1.59804276 1.8409491  1.57396446 2.07564985 1.88839502 2.58456619\n",
            " 1.84859781 2.22919014 1.84787613 2.27219178 2.38335679 2.31118729\n",
            " 2.45436947 2.14439408 1.54991988 2.13652831 1.66931074 2.10357733\n",
            " 1.65823486 1.93134945 1.59444934 1.67102536 2.34970387 1.68686039\n",
            " 1.54236259 1.85482686 1.55689849 1.69823124 2.14699717 1.96005109\n",
            " 1.72947972 2.01129734 2.04119947 2.28594008 1.81858629 2.23919996\n",
            " 2.02776157 2.35446798 2.28947595 1.68856042 1.77003588 1.61709918\n",
            " 1.82308737 2.16667949 2.48086694 2.37074404 2.2623902  2.10339384\n",
            " 2.27924091 2.44065776 1.87210083 2.3560309  1.7739658  1.82429766\n",
            " 2.3932505  1.95444852 1.83364789 1.91461332 2.13898349 2.16247547\n",
            " 2.19251575 1.65042588 2.35075198 2.01996411 2.4656421  2.17657918\n",
            " 1.58634701 1.88416588 2.14190168 1.47512572 2.41392627 1.831908\n",
            " 2.20057506 1.45698276 1.9846443  2.0962228  1.71655803 1.87175492\n",
            " 1.54343852 2.23177242 1.4805835  1.6920753  1.91205235 1.94619637\n",
            " 2.15281642 1.79291517 2.05279708 2.11278422 2.27670272 1.97565473\n",
            " 2.01789434 1.95455359 1.66232339 2.39125372 2.31589667 1.75396413\n",
            " 2.08859055 1.87292701 2.40907364 1.9917951  1.93585596 1.76907492\n",
            " 1.80615243 2.30130103 2.04267842 2.46872596 2.25195694 2.13223965\n",
            " 1.63195919 1.55436914]\n"
          ]
        }
      ]
    },
    {
      "cell_type": "code",
      "source": [
        "from keras.models import Sequential\n",
        "from keras.layers import Dense\n",
        "\n",
        "# モデルを作成\n",
        "# https://note.nkmk.me/python-tensorflow-keras-basics/\n",
        "model = Sequential()\n",
        "# 全結合層。units : 出力層の次元、input_dim : 入力層の次元\n",
        "model.add(Dense(input_dim=1, units=1))\n",
        "\n",
        "# モデルを表示\n",
        "model.summary()"
      ],
      "metadata": {
        "colab": {
          "base_uri": "https://localhost:8080/"
        },
        "id": "THWKA23QV--r",
        "outputId": "0cc7bf68-3818-43f6-d38d-ca09eb196f74"
      },
      "execution_count": 7,
      "outputs": [
        {
          "output_type": "stream",
          "name": "stdout",
          "text": [
            "Model: \"sequential_2\"\n",
            "_________________________________________________________________\n",
            "Layer (type)                 Output Shape              Param #   \n",
            "=================================================================\n",
            "dense_2 (Dense)              (None, 1)                 2         \n",
            "=================================================================\n",
            "Total params: 2\n",
            "Trainable params: 2\n",
            "Non-trainable params: 0\n",
            "_________________________________________________________________\n"
          ]
        }
      ]
    },
    {
      "cell_type": "code",
      "source": [
        "# モデルのコンパイル\n",
        "model.compile(loss='mse', optimizer='sgd')\n",
        "\n",
        "# 学習\n",
        "for i in range(iters_num):\n",
        "  loss = model.train_on_batch(x, d)\n",
        "  if (i+1) % plot_interval == 0:\n",
        "    print('Generation: ' + str(i+1) + '. 誤差 = ' + str(loss))\n",
        "\n",
        "W, b = model.layers[0].get_weights()\n",
        "print('W: ', W)\n",
        "print('b: ', b)"
      ],
      "metadata": {
        "colab": {
          "base_uri": "https://localhost:8080/"
        },
        "id": "f8q_mK3BWuY4",
        "outputId": "f1f24409-98c0-45df-b33a-844d46327549"
      },
      "execution_count": 9,
      "outputs": [
        {
          "output_type": "stream",
          "name": "stdout",
          "text": [
            "Generation: 10. 誤差 = 2.598834\n",
            "Generation: 20. 誤差 = 1.8892202\n",
            "Generation: 30. 誤差 = 1.3960725\n",
            "Generation: 40. 誤差 = 1.0498916\n",
            "Generation: 50. 誤差 = 0.80396944\n",
            "Generation: 60. 誤差 = 0.6268529\n",
            "Generation: 70. 誤差 = 0.49730667\n",
            "Generation: 80. 誤差 = 0.40094712\n",
            "Generation: 90. 誤差 = 0.32799122\n",
            "Generation: 100. 誤差 = 0.27175015\n",
            "Generation: 110. 誤差 = 0.2276204\n",
            "Generation: 120. 誤差 = 0.19240826\n",
            "Generation: 130. 誤差 = 0.16387658\n",
            "Generation: 140. 誤差 = 0.14043966\n",
            "Generation: 150. 誤差 = 0.1209589\n",
            "Generation: 160. 誤差 = 0.10460392\n",
            "Generation: 170. 誤差 = 0.09075905\n",
            "Generation: 180. 誤差 = 0.078959815\n",
            "Generation: 190. 誤差 = 0.068849385\n",
            "Generation: 200. 誤差 = 0.06014867\n",
            "Generation: 210. 誤差 = 0.052635685\n",
            "Generation: 220. 誤差 = 0.04613106\n",
            "Generation: 230. 誤差 = 0.040487815\n",
            "Generation: 240. 誤差 = 0.03558403\n",
            "Generation: 250. 誤差 = 0.031317554\n",
            "Generation: 260. 誤差 = 0.02760201\n",
            "Generation: 270. 誤差 = 0.024363887\n",
            "Generation: 280. 誤差 = 0.021540256\n",
            "Generation: 290. 誤差 = 0.019076994\n",
            "Generation: 300. 誤差 = 0.016927391\n",
            "Generation: 310. 誤差 = 0.015051045\n",
            "Generation: 320. 誤差 = 0.013412892\n",
            "Generation: 330. 誤差 = 0.011982485\n",
            "Generation: 340. 誤差 = 0.010733345\n",
            "Generation: 350. 誤差 = 0.009642391\n",
            "Generation: 360. 誤差 = 0.008689539\n",
            "Generation: 370. 誤差 = 0.007857263\n",
            "Generation: 380. 誤差 = 0.00713027\n",
            "Generation: 390. 誤差 = 0.0064952294\n",
            "Generation: 400. 誤差 = 0.005940499\n",
            "Generation: 410. 誤差 = 0.005455909\n",
            "Generation: 420. 誤差 = 0.0050325897\n",
            "Generation: 430. 誤差 = 0.0046627875\n",
            "Generation: 440. 誤差 = 0.004339737\n",
            "Generation: 450. 誤差 = 0.004057525\n",
            "Generation: 460. 誤差 = 0.003810985\n",
            "Generation: 470. 誤差 = 0.0035956101\n",
            "Generation: 480. 誤差 = 0.0034074604\n",
            "Generation: 490. 誤差 = 0.0032430934\n",
            "Generation: 500. 誤差 = 0.0030995018\n",
            "Generation: 510. 誤差 = 0.0029740608\n",
            "Generation: 520. 誤差 = 0.0028644747\n",
            "Generation: 530. 誤差 = 0.0027687387\n",
            "Generation: 540. 誤差 = 0.0026851052\n",
            "Generation: 550. 誤差 = 0.002612043\n",
            "Generation: 560. 誤差 = 0.0025482154\n",
            "Generation: 570. 誤差 = 0.0024924541\n",
            "Generation: 580. 誤差 = 0.0024437425\n",
            "Generation: 590. 誤差 = 0.0024011873\n",
            "Generation: 600. 誤差 = 0.0023640112\n",
            "Generation: 610. 誤差 = 0.002331533\n",
            "Generation: 620. 誤差 = 0.0023031605\n",
            "Generation: 630. 誤差 = 0.002278375\n",
            "Generation: 640. 誤差 = 0.0022567222\n",
            "Generation: 650. 誤差 = 0.0022378054\n",
            "Generation: 660. 誤差 = 0.002221279\n",
            "Generation: 670. 誤差 = 0.0022068429\n",
            "Generation: 680. 誤差 = 0.0021942318\n",
            "Generation: 690. 誤差 = 0.002183212\n",
            "Generation: 700. 誤差 = 0.0021735884\n",
            "Generation: 710. 誤差 = 0.0021651802\n",
            "Generation: 720. 誤差 = 0.0021578337\n",
            "Generation: 730. 誤差 = 0.0021514168\n",
            "Generation: 740. 誤差 = 0.00214581\n",
            "Generation: 750. 誤差 = 0.0021409125\n",
            "Generation: 760. 誤差 = 0.0021366347\n",
            "Generation: 770. 誤差 = 0.0021328973\n",
            "Generation: 780. 誤差 = 0.0021296313\n",
            "Generation: 790. 誤差 = 0.002126779\n",
            "Generation: 800. 誤差 = 0.0021242872\n",
            "Generation: 810. 誤差 = 0.0021221105\n",
            "Generation: 820. 誤差 = 0.0021202087\n",
            "Generation: 830. 誤差 = 0.0021185472\n",
            "Generation: 840. 誤差 = 0.0021170953\n",
            "Generation: 850. 誤差 = 0.0021158278\n",
            "Generation: 860. 誤差 = 0.0021147188\n",
            "Generation: 870. 誤差 = 0.0021137518\n",
            "Generation: 880. 誤差 = 0.0021129057\n",
            "Generation: 890. 誤差 = 0.0021121677\n",
            "Generation: 900. 誤差 = 0.0021115227\n",
            "Generation: 910. 誤差 = 0.0021109583\n",
            "Generation: 920. 誤差 = 0.0021104661\n",
            "Generation: 930. 誤差 = 0.002110036\n",
            "Generation: 940. 誤差 = 0.002109661\n",
            "Generation: 950. 誤差 = 0.0021093318\n",
            "Generation: 960. 誤差 = 0.0021090445\n",
            "Generation: 970. 誤差 = 0.002108794\n",
            "Generation: 980. 誤差 = 0.0021085758\n",
            "Generation: 990. 誤差 = 0.0021083849\n",
            "Generation: 1000. 誤差 = 0.0021082177\n",
            "W:  [[0.4948645]]\n",
            "b:  [1.9973919]\n"
          ]
        }
      ]
    },
    {
      "cell_type": "markdown",
      "source": [
        "単純パーセプトロン"
      ],
      "metadata": {
        "id": "6FY0ZC4FYn9U"
      }
    },
    {
      "cell_type": "code",
      "source": [
        "from keras.layers import Activation\n",
        "from keras.optimizers import SGD\n",
        "\n",
        "# 乱数を固定値で初期化\n",
        "np.random.seed(0)\n",
        "\n",
        "# シグモイドでの単純パーセプトロン作成\n",
        "model = Sequential()\n",
        "model.add(Dense(input_dim=2, units=1))\n",
        "model.add(Activation('sigmoid'))\n",
        "model.summary()"
      ],
      "metadata": {
        "colab": {
          "base_uri": "https://localhost:8080/"
        },
        "id": "X0Aqj5JZZAMJ",
        "outputId": "dedebde8-90a8-43f1-e836-1071dddedf31"
      },
      "execution_count": 11,
      "outputs": [
        {
          "output_type": "stream",
          "name": "stdout",
          "text": [
            "Model: \"sequential_3\"\n",
            "_________________________________________________________________\n",
            "Layer (type)                 Output Shape              Param #   \n",
            "=================================================================\n",
            "dense_3 (Dense)              (None, 1)                 3         \n",
            "_________________________________________________________________\n",
            "activation_1 (Activation)    (None, 1)                 0         \n",
            "=================================================================\n",
            "Total params: 3\n",
            "Trainable params: 3\n",
            "Non-trainable params: 0\n",
            "_________________________________________________________________\n"
          ]
        }
      ]
    },
    {
      "cell_type": "code",
      "source": [
        "model.compile(loss='binary_crossentropy', optimizer=SGD(lr=0.1))\n",
        "\n",
        "# 入力X, 正解データT\n",
        "X = np.array([[0,0], [0,1], [1,0], [1,1]])\n",
        "T = np.array([[0], [1], [1], [1]])\n",
        "\n",
        "# 訓練\n",
        "model.fit(X, T, epochs=30, batch_size=1)\n",
        "\n",
        "# 訓練データの入力を流用して実際に分類\n",
        "Y = model.predict_classes(X, batch_size=1)\n",
        "\n",
        "print('test')\n",
        "print(Y==T)"
      ],
      "metadata": {
        "colab": {
          "base_uri": "https://localhost:8080/"
        },
        "id": "-1iYDkmMZcWu",
        "outputId": "f51cb5ea-a2f3-4be1-a18b-9e8238b19693"
      },
      "execution_count": 12,
      "outputs": [
        {
          "output_type": "stream",
          "name": "stdout",
          "text": [
            "Epoch 1/30\n",
            "4/4 [==============================] - 0s 21ms/step - loss: 0.4352\n",
            "Epoch 2/30\n",
            "4/4 [==============================] - 0s 2ms/step - loss: 0.4204\n",
            "Epoch 3/30\n",
            "4/4 [==============================] - 0s 2ms/step - loss: 0.4079\n",
            "Epoch 4/30\n",
            "4/4 [==============================] - 0s 3ms/step - loss: 0.3971\n",
            "Epoch 5/30\n",
            "4/4 [==============================] - 0s 3ms/step - loss: 0.3876\n",
            "Epoch 6/30\n",
            "4/4 [==============================] - 0s 5ms/step - loss: 0.3790\n",
            "Epoch 7/30\n",
            "4/4 [==============================] - 0s 3ms/step - loss: 0.3717\n",
            "Epoch 8/30\n",
            "4/4 [==============================] - 0s 5ms/step - loss: 0.3650\n",
            "Epoch 9/30\n",
            "4/4 [==============================] - 0s 3ms/step - loss: 0.3586\n",
            "Epoch 10/30\n",
            "4/4 [==============================] - 0s 5ms/step - loss: 0.3528\n",
            "Epoch 11/30\n",
            "4/4 [==============================] - 0s 4ms/step - loss: 0.3476\n",
            "Epoch 12/30\n",
            "4/4 [==============================] - 0s 3ms/step - loss: 0.3425\n",
            "Epoch 13/30\n",
            "4/4 [==============================] - 0s 3ms/step - loss: 0.3378\n",
            "Epoch 14/30\n",
            "4/4 [==============================] - 0s 5ms/step - loss: 0.3333\n",
            "Epoch 15/30\n",
            "4/4 [==============================] - 0s 2ms/step - loss: 0.3291\n",
            "Epoch 16/30\n",
            "4/4 [==============================] - 0s 2ms/step - loss: 0.3250\n",
            "Epoch 17/30\n",
            "4/4 [==============================] - 0s 2ms/step - loss: 0.3210\n",
            "Epoch 18/30\n",
            "4/4 [==============================] - 0s 2ms/step - loss: 0.3172\n",
            "Epoch 19/30\n",
            "4/4 [==============================] - 0s 3ms/step - loss: 0.3136\n",
            "Epoch 20/30\n",
            "4/4 [==============================] - 0s 2ms/step - loss: 0.3100\n",
            "Epoch 21/30\n",
            "4/4 [==============================] - 0s 2ms/step - loss: 0.3067\n",
            "Epoch 22/30\n",
            "4/4 [==============================] - 0s 2ms/step - loss: 0.3032\n",
            "Epoch 23/30\n",
            "4/4 [==============================] - 0s 2ms/step - loss: 0.3000\n",
            "Epoch 24/30\n",
            "4/4 [==============================] - 0s 2ms/step - loss: 0.2968\n",
            "Epoch 25/30\n",
            "4/4 [==============================] - 0s 2ms/step - loss: 0.2938\n",
            "Epoch 26/30\n",
            "4/4 [==============================] - 0s 2ms/step - loss: 0.2908\n",
            "Epoch 27/30\n",
            "4/4 [==============================] - 0s 1ms/step - loss: 0.2878\n",
            "Epoch 28/30\n",
            "4/4 [==============================] - 0s 1ms/step - loss: 0.2850\n",
            "Epoch 29/30\n",
            "4/4 [==============================] - 0s 3ms/step - loss: 0.2821\n",
            "Epoch 30/30\n",
            "4/4 [==============================] - 0s 2ms/step - loss: 0.2794\n",
            "test\n",
            "[[ True]\n",
            " [ True]\n",
            " [ True]\n",
            " [ True]]\n"
          ]
        }
      ]
    },
    {
      "cell_type": "markdown",
      "source": [
        "分類(iris)"
      ],
      "metadata": {
        "id": "FjgLvr2TaPPS"
      }
    },
    {
      "cell_type": "code",
      "source": [
        "import matplotlib.pyplot as plt\n",
        "from sklearn import datasets\n",
        "\n",
        "iris = datasets.load_iris()\n",
        "x = iris.data\n",
        "d = iris.target\n",
        "\n",
        "from sklearn.model_selection import train_test_split\n",
        "x_train, x_test, d_train, d_test = train_test_split(x, d, test_size=0.2)\n",
        "\n",
        "# モデルの設定\n",
        "model = Sequential()\n",
        "model.add(Dense(12, input_dim=4))\n",
        "model.add(Activation('relu'))\n",
        "model.add(Dense(3, input_dim=12))\n",
        "model.add(Activation('softmax'))\n",
        "model.summary()\n",
        "\n",
        "model.compile(optimizer='sgd', loss='sparse_categorical_crossentropy', metrics=['accuracy'])\n",
        "\n",
        "history = model.fit(x_train, d_train, batch_size=5, epochs=20, verbose=1, validation_data=(x_test, d_test))\n",
        "loss = model.evaluate(x_test, d_test, verbose=0)\n",
        "\n",
        "# 正答率\n",
        "plt.plot(history.history['accuracy'])\n",
        "plt.plot(history.history['val_accuracy'])\n",
        "plt.title('model accuracy')\n",
        "plt.ylabel('accuracy')\n",
        "plt.xlabel('epoch')\n",
        "plt.legend(['train', 'test'], loc='upper left')\n",
        "plt.ylim(0, 1.0)\n",
        "plt.show()\n"
      ],
      "metadata": {
        "colab": {
          "base_uri": "https://localhost:8080/",
          "height": 1000
        },
        "id": "CQLJJzA7aqiR",
        "outputId": "2f81288e-b317-424b-9bc9-b063ec5e3292"
      },
      "execution_count": 23,
      "outputs": [
        {
          "output_type": "stream",
          "name": "stdout",
          "text": [
            "Model: \"sequential_6\"\n",
            "_________________________________________________________________\n",
            "Layer (type)                 Output Shape              Param #   \n",
            "=================================================================\n",
            "dense_8 (Dense)              (None, 12)                60        \n",
            "_________________________________________________________________\n",
            "activation_6 (Activation)    (None, 12)                0         \n",
            "_________________________________________________________________\n",
            "dense_9 (Dense)              (None, 3)                 39        \n",
            "_________________________________________________________________\n",
            "activation_7 (Activation)    (None, 3)                 0         \n",
            "=================================================================\n",
            "Total params: 99\n",
            "Trainable params: 99\n",
            "Non-trainable params: 0\n",
            "_________________________________________________________________\n",
            "Train on 120 samples, validate on 30 samples\n",
            "Epoch 1/20\n",
            "120/120 [==============================] - 0s 2ms/step - loss: 1.1501 - accuracy: 0.5250 - val_loss: 0.9159 - val_accuracy: 0.6000\n",
            "Epoch 2/20\n",
            "120/120 [==============================] - 0s 281us/step - loss: 0.8979 - accuracy: 0.6583 - val_loss: 0.8547 - val_accuracy: 0.6000\n",
            "Epoch 3/20\n",
            "120/120 [==============================] - 0s 241us/step - loss: 0.8182 - accuracy: 0.6833 - val_loss: 0.7866 - val_accuracy: 0.6000\n",
            "Epoch 4/20\n",
            "120/120 [==============================] - 0s 291us/step - loss: 0.7508 - accuracy: 0.7083 - val_loss: 0.7323 - val_accuracy: 0.7000\n",
            "Epoch 5/20\n",
            "120/120 [==============================] - 0s 281us/step - loss: 0.6893 - accuracy: 0.7500 - val_loss: 0.6919 - val_accuracy: 0.6000\n",
            "Epoch 6/20\n",
            "120/120 [==============================] - 0s 244us/step - loss: 0.6348 - accuracy: 0.7250 - val_loss: 0.6498 - val_accuracy: 0.7333\n",
            "Epoch 7/20\n",
            "120/120 [==============================] - 0s 261us/step - loss: 0.5935 - accuracy: 0.7750 - val_loss: 0.6086 - val_accuracy: 0.7000\n",
            "Epoch 8/20\n",
            "120/120 [==============================] - 0s 285us/step - loss: 0.5609 - accuracy: 0.7750 - val_loss: 0.5861 - val_accuracy: 0.6333\n",
            "Epoch 9/20\n",
            "120/120 [==============================] - 0s 395us/step - loss: 0.5323 - accuracy: 0.7917 - val_loss: 0.5605 - val_accuracy: 0.6667\n",
            "Epoch 10/20\n",
            "120/120 [==============================] - 0s 247us/step - loss: 0.4986 - accuracy: 0.7750 - val_loss: 0.5354 - val_accuracy: 0.8333\n",
            "Epoch 11/20\n",
            "120/120 [==============================] - 0s 270us/step - loss: 0.4932 - accuracy: 0.8000 - val_loss: 0.5167 - val_accuracy: 0.8000\n",
            "Epoch 12/20\n",
            "120/120 [==============================] - 0s 251us/step - loss: 0.4625 - accuracy: 0.8250 - val_loss: 0.4989 - val_accuracy: 0.9667\n",
            "Epoch 13/20\n",
            "120/120 [==============================] - 0s 412us/step - loss: 0.4469 - accuracy: 0.8500 - val_loss: 0.4910 - val_accuracy: 0.9000\n",
            "Epoch 14/20\n",
            "120/120 [==============================] - 0s 253us/step - loss: 0.4350 - accuracy: 0.8333 - val_loss: 0.4713 - val_accuracy: 0.9333\n",
            "Epoch 15/20\n",
            "120/120 [==============================] - 0s 261us/step - loss: 0.4365 - accuracy: 0.8000 - val_loss: 0.4591 - val_accuracy: 0.9667\n",
            "Epoch 16/20\n",
            "120/120 [==============================] - 0s 337us/step - loss: 0.4175 - accuracy: 0.9000 - val_loss: 0.4469 - val_accuracy: 0.9667\n",
            "Epoch 17/20\n",
            "120/120 [==============================] - 0s 255us/step - loss: 0.4040 - accuracy: 0.8917 - val_loss: 0.4370 - val_accuracy: 0.9333\n",
            "Epoch 18/20\n",
            "120/120 [==============================] - 0s 331us/step - loss: 0.3880 - accuracy: 0.8833 - val_loss: 0.4349 - val_accuracy: 0.7333\n",
            "Epoch 19/20\n",
            "120/120 [==============================] - 0s 290us/step - loss: 0.3696 - accuracy: 0.8750 - val_loss: 0.4168 - val_accuracy: 0.9333\n",
            "Epoch 20/20\n",
            "120/120 [==============================] - 0s 278us/step - loss: 0.3692 - accuracy: 0.9250 - val_loss: 0.4034 - val_accuracy: 0.9333\n"
          ]
        },
        {
          "output_type": "display_data",
          "data": {
            "image/png": "[encoded data removed]",
            "text/plain": [
              "<Figure size 432x288 with 1 Axes>"
            ]
          },
          "metadata": {
            "needs_background": "light"
          }
        }
      ]
    },
    {
      "cell_type": "markdown",
      "source": [
        "分類(mnist)"
      ],
      "metadata": {
        "id": "2qFT1y25cYp5"
      }
    },
    {
      "cell_type": "code",
      "source": [
        "from data.mnist import load_mnist\n",
        "\n",
        "(x_train, d_train) , (x_test, d_test) = load_mnist(normalize=True, one_hot_label=True)\n",
        "\n",
        "from keras.layers import Dropout\n",
        "from keras.optimizers import Adam\n",
        "\n",
        "# モデルの設定\n",
        "model = Sequential()\n",
        "model.add(Dense(512, activation='relu', input_shape=(784,)))\n",
        "model.add(Dropout(0.2))\n",
        "model.add(Dense(512, activation='relu'))\n",
        "model.add(Dropout(0.2))\n",
        "model.add(Dense(10, activation='softmax'))\n",
        "model.summary()\n",
        "\n",
        "# バッチサイズ、エポック数\n",
        "batch_size = 128\n",
        "epochs = 20\n",
        "\n",
        "model.compile(loss='categorical_crossentropy',\n",
        "              optimizer=Adam(lr=0.001, beta_1=0.9, beta_2=0.999, decay=0.0, amsgrad=False),\n",
        "              metrics=['accuracy'])\n",
        "\n",
        "history = model.fit(x_train, d_train, batch_size=batch_size, epochs=epochs, verbose=1, validation_data=(x_test, d_test))\n",
        "loss = model.evaluate(x_test, d_test, verbose=0)\n",
        "\n",
        "# 正答率\n",
        "plt.plot(history.history['accuracy'])\n",
        "plt.plot(history.history['val_accuracy'])\n",
        "plt.title('model accuracy')\n",
        "plt.ylabel('accuracy')\n",
        "plt.xlabel('epoch')\n",
        "plt.legend(['train', 'test'], loc='upper left')\n",
        "plt.ylim(0, 1.0)\n",
        "plt.show()\n"
      ],
      "metadata": {
        "colab": {
          "base_uri": "https://localhost:8080/",
          "height": 1000
        },
        "id": "Bg95TKVpcqd5",
        "outputId": "4acaff5c-202f-44d7-dc14-fa9ef4c935d6"
      },
      "execution_count": 29,
      "outputs": [
        {
          "output_type": "stream",
          "name": "stdout",
          "text": [
            "Model: \"sequential_12\"\n",
            "_________________________________________________________________\n",
            "Layer (type)                 Output Shape              Param #   \n",
            "=================================================================\n",
            "dense_23 (Dense)             (None, 512)               401920    \n",
            "_________________________________________________________________\n",
            "dropout_9 (Dropout)          (None, 512)               0         \n",
            "_________________________________________________________________\n",
            "dense_24 (Dense)             (None, 512)               262656    \n",
            "_________________________________________________________________\n",
            "dropout_10 (Dropout)         (None, 512)               0         \n",
            "_________________________________________________________________\n",
            "dense_25 (Dense)             (None, 10)                5130      \n",
            "=================================================================\n",
            "Total params: 669,706\n",
            "Trainable params: 669,706\n",
            "Non-trainable params: 0\n",
            "_________________________________________________________________\n",
            "Train on 60000 samples, validate on 10000 samples\n",
            "Epoch 1/20\n",
            "60000/60000 [==============================] - 10s 173us/step - loss: 0.2537 - accuracy: 0.9233 - val_loss: 0.1066 - val_accuracy: 0.9669\n",
            "Epoch 2/20\n",
            "60000/60000 [==============================] - 10s 164us/step - loss: 0.1034 - accuracy: 0.9685 - val_loss: 0.0799 - val_accuracy: 0.9738\n",
            "Epoch 3/20\n",
            "60000/60000 [==============================] - 10s 166us/step - loss: 0.0724 - accuracy: 0.9778 - val_loss: 0.0676 - val_accuracy: 0.9786\n",
            "Epoch 4/20\n",
            "60000/60000 [==============================] - 12s 195us/step - loss: 0.0567 - accuracy: 0.9814 - val_loss: 0.0744 - val_accuracy: 0.9778\n",
            "Epoch 5/20\n",
            "60000/60000 [==============================] - 11s 185us/step - loss: 0.0455 - accuracy: 0.9848 - val_loss: 0.0680 - val_accuracy: 0.9798\n",
            "Epoch 6/20\n",
            "60000/60000 [==============================] - 10s 169us/step - loss: 0.0386 - accuracy: 0.9876 - val_loss: 0.0652 - val_accuracy: 0.9805\n",
            "Epoch 7/20\n",
            "60000/60000 [==============================] - 13s 217us/step - loss: 0.0359 - accuracy: 0.9878 - val_loss: 0.0629 - val_accuracy: 0.9824\n",
            "Epoch 8/20\n",
            "60000/60000 [==============================] - 15s 244us/step - loss: 0.0301 - accuracy: 0.9902 - val_loss: 0.0756 - val_accuracy: 0.9817\n",
            "Epoch 9/20\n",
            "60000/60000 [==============================] - 12s 195us/step - loss: 0.0289 - accuracy: 0.9906 - val_loss: 0.0703 - val_accuracy: 0.9813\n",
            "Epoch 10/20\n",
            "60000/60000 [==============================] - 12s 194us/step - loss: 0.0237 - accuracy: 0.9921 - val_loss: 0.0633 - val_accuracy: 0.9838\n",
            "Epoch 11/20\n",
            "60000/60000 [==============================] - 11s 191us/step - loss: 0.0239 - accuracy: 0.9920 - val_loss: 0.0675 - val_accuracy: 0.9822\n",
            "Epoch 12/20\n",
            "60000/60000 [==============================] - 10s 167us/step - loss: 0.0209 - accuracy: 0.9930 - val_loss: 0.0739 - val_accuracy: 0.9823\n",
            "Epoch 13/20\n",
            "60000/60000 [==============================] - 14s 237us/step - loss: 0.0219 - accuracy: 0.9926 - val_loss: 0.0856 - val_accuracy: 0.9803\n",
            "Epoch 14/20\n",
            "60000/60000 [==============================] - 14s 226us/step - loss: 0.0196 - accuracy: 0.9934 - val_loss: 0.0749 - val_accuracy: 0.9828\n",
            "Epoch 15/20\n",
            "60000/60000 [==============================] - 10s 166us/step - loss: 0.0191 - accuracy: 0.9937 - val_loss: 0.0723 - val_accuracy: 0.9835\n",
            "Epoch 16/20\n",
            "60000/60000 [==============================] - 11s 178us/step - loss: 0.0172 - accuracy: 0.9943 - val_loss: 0.0718 - val_accuracy: 0.9846\n",
            "Epoch 17/20\n",
            "60000/60000 [==============================] - 12s 198us/step - loss: 0.0165 - accuracy: 0.9948 - val_loss: 0.0704 - val_accuracy: 0.9837\n",
            "Epoch 18/20\n",
            "60000/60000 [==============================] - 12s 205us/step - loss: 0.0163 - accuracy: 0.9943 - val_loss: 0.0824 - val_accuracy: 0.9834\n",
            "Epoch 19/20\n",
            "60000/60000 [==============================] - 10s 165us/step - loss: 0.0148 - accuracy: 0.9955 - val_loss: 0.0713 - val_accuracy: 0.9843\n",
            "Epoch 20/20\n",
            "60000/60000 [==============================] - 10s 166us/step - loss: 0.0157 - accuracy: 0.9948 - val_loss: 0.0755 - val_accuracy: 0.9841\n"
          ]
        },
        {
          "output_type": "display_data",
          "data": {
            "image/png": "[encoded data removed]",
            "text/plain": [
              "<Figure size 432x288 with 1 Axes>"
            ]
          },
          "metadata": {
            "needs_background": "light"
          }
        }
      ]
    },
    {
      "cell_type": "markdown",
      "source": [
        "CNN分類(mnist)"
      ],
      "metadata": {
        "id": "qdeqBSXOlp1v"
      }
    },
    {
      "cell_type": "code",
      "source": [
        "# データセットのロード\n",
        "(x_train, d_train), (x_test, d_test) = load_mnist(normalize=True, one_hot_label=True)\n",
        "\n",
        "# 行列として入力するため加工\n",
        "img_rows, img_cols = 28, 28\n",
        "\n",
        "x_train = x_train.reshape(x_train.shape[0], img_rows, img_cols, 1)\n",
        "x_test = x_test.reshape(x_test.shape[0], img_rows, img_cols, 1)\n",
        "input_shape = (img_rows, img_cols, 1)\n",
        "\n",
        "# 分類数\n",
        "num_classes = 10\n",
        "\n",
        "from keras.layers import Flatten\n",
        "from keras.layers import Conv2D, MaxPooling2D\n",
        "\n",
        "# モデルの構築\n",
        "model = Sequential()\n",
        "model.add(Conv2D(32, kernel_size=(3, 3), activation='relu', input_shape=input_shape))\n",
        "model.add(Conv2D(64, (3, 3), activation='relu'))\n",
        "model.add(MaxPooling2D(pool_size=(2, 2)))\n",
        "model.add(Dropout(0.25))\n",
        "model.add(Flatten())\n",
        "model.add(Dense(128, activation='relu'))\n",
        "model.add(Dropout(0.5))\n",
        "model.add(Dense(num_classes, activation='softmax'))\n",
        "model.summary()\n",
        "\n",
        "# バッチサイズ、エポック数\n",
        "batch_size = 128\n",
        "epochs = 20\n",
        "\n",
        "model.compile(loss='categorical_crossentropy', optimizer=Adam(), metrics=['accuracy'])\n",
        "history = model.fit(x_train, d_train, batch_size=batch_size, epochs=epochs, verbose=1, validation_data=(x_test, d_test))\n",
        "\n",
        "# 正解率\n",
        "plt.plot(history.history['accuracy'])\n",
        "plt.plot(history.history['val_accuracy'])\n",
        "plt.title('model accuracy')\n",
        "plt.ylabel('accuracy')\n",
        "plt.xlabel('epoch')\n",
        "plt.legend(['train', 'test'], loc='upper left')\n",
        "plt.show()"
      ],
      "metadata": {
        "colab": {
          "base_uri": "https://localhost:8080/",
          "height": 1000
        },
        "id": "bbujVunFjC43",
        "outputId": "303d0475-3555-42da-9563-9b7bd6bb684b"
      },
      "execution_count": 30,
      "outputs": [
        {
          "output_type": "stream",
          "name": "stdout",
          "text": [
            "Model: \"sequential_13\"\n",
            "_________________________________________________________________\n",
            "Layer (type)                 Output Shape              Param #   \n",
            "=================================================================\n",
            "conv2d_1 (Conv2D)            (None, 26, 26, 32)        320       \n",
            "_________________________________________________________________\n",
            "conv2d_2 (Conv2D)            (None, 24, 24, 64)        18496     \n",
            "_________________________________________________________________\n",
            "max_pooling2d_1 (MaxPooling2 (None, 12, 12, 64)        0         \n",
            "_________________________________________________________________\n",
            "dropout_11 (Dropout)         (None, 12, 12, 64)        0         \n",
            "_________________________________________________________________\n",
            "flatten_1 (Flatten)          (None, 9216)              0         \n",
            "_________________________________________________________________\n",
            "dense_26 (Dense)             (None, 128)               1179776   \n",
            "_________________________________________________________________\n",
            "dropout_12 (Dropout)         (None, 128)               0         \n",
            "_________________________________________________________________\n",
            "dense_27 (Dense)             (None, 10)                1290      \n",
            "=================================================================\n",
            "Total params: 1,199,882\n",
            "Trainable params: 1,199,882\n",
            "Non-trainable params: 0\n",
            "_________________________________________________________________\n",
            "Train on 60000 samples, validate on 10000 samples\n",
            "Epoch 1/20\n",
            "60000/60000 [==============================] - 150s 3ms/step - loss: 0.2514 - accuracy: 0.9242 - val_loss: 0.0508 - val_accuracy: 0.9824\n",
            "Epoch 2/20\n",
            "60000/60000 [==============================] - 173s 3ms/step - loss: 0.0862 - accuracy: 0.9744 - val_loss: 0.0418 - val_accuracy: 0.9853\n",
            "Epoch 3/20\n",
            "60000/60000 [==============================] - 184s 3ms/step - loss: 0.0647 - accuracy: 0.9804 - val_loss: 0.0312 - val_accuracy: 0.9901\n",
            "Epoch 4/20\n",
            "60000/60000 [==============================] - 213s 4ms/step - loss: 0.0544 - accuracy: 0.9833 - val_loss: 0.0315 - val_accuracy: 0.9899\n",
            "Epoch 5/20\n",
            "60000/60000 [==============================] - 144s 2ms/step - loss: 0.0446 - accuracy: 0.9863 - val_loss: 0.0325 - val_accuracy: 0.9902\n",
            "Epoch 6/20\n",
            "60000/60000 [==============================] - 143s 2ms/step - loss: 0.0392 - accuracy: 0.9870 - val_loss: 0.0333 - val_accuracy: 0.9902\n",
            "Epoch 7/20\n",
            "60000/60000 [==============================] - 146s 2ms/step - loss: 0.0357 - accuracy: 0.9890 - val_loss: 0.0287 - val_accuracy: 0.9907\n",
            "Epoch 8/20\n",
            "60000/60000 [==============================] - 147s 2ms/step - loss: 0.0314 - accuracy: 0.9901 - val_loss: 0.0261 - val_accuracy: 0.9916\n",
            "Epoch 9/20\n",
            "60000/60000 [==============================] - 148s 2ms/step - loss: 0.0278 - accuracy: 0.9909 - val_loss: 0.0246 - val_accuracy: 0.9912\n",
            "Epoch 10/20\n",
            "60000/60000 [==============================] - 147s 2ms/step - loss: 0.0256 - accuracy: 0.9914 - val_loss: 0.0292 - val_accuracy: 0.9913\n",
            "Epoch 11/20\n",
            "60000/60000 [==============================] - 146s 2ms/step - loss: 0.0242 - accuracy: 0.9919 - val_loss: 0.0246 - val_accuracy: 0.9928\n",
            "Epoch 12/20\n",
            "60000/60000 [==============================] - 146s 2ms/step - loss: 0.0222 - accuracy: 0.9924 - val_loss: 0.0305 - val_accuracy: 0.9903\n",
            "Epoch 13/20\n",
            "60000/60000 [==============================] - 146s 2ms/step - loss: 0.0202 - accuracy: 0.9933 - val_loss: 0.0283 - val_accuracy: 0.9922\n",
            "Epoch 14/20\n",
            "60000/60000 [==============================] - 145s 2ms/step - loss: 0.0189 - accuracy: 0.9937 - val_loss: 0.0304 - val_accuracy: 0.9928\n",
            "Epoch 15/20\n",
            "60000/60000 [==============================] - 145s 2ms/step - loss: 0.0166 - accuracy: 0.9941 - val_loss: 0.0299 - val_accuracy: 0.9917\n",
            "Epoch 16/20\n",
            "60000/60000 [==============================] - 145s 2ms/step - loss: 0.0164 - accuracy: 0.9942 - val_loss: 0.0313 - val_accuracy: 0.9920\n",
            "Epoch 17/20\n",
            "60000/60000 [==============================] - 146s 2ms/step - loss: 0.0154 - accuracy: 0.9945 - val_loss: 0.0273 - val_accuracy: 0.9924\n",
            "Epoch 18/20\n",
            "60000/60000 [==============================] - 145s 2ms/step - loss: 0.0163 - accuracy: 0.9945 - val_loss: 0.0274 - val_accuracy: 0.9931\n",
            "Epoch 19/20\n",
            "60000/60000 [==============================] - 145s 2ms/step - loss: 0.0143 - accuracy: 0.9952 - val_loss: 0.0302 - val_accuracy: 0.9925\n",
            "Epoch 20/20\n",
            "60000/60000 [==============================] - 146s 2ms/step - loss: 0.0138 - accuracy: 0.9950 - val_loss: 0.0395 - val_accuracy: 0.9919\n"
          ]
        },
        {
          "output_type": "display_data",
          "data": {
            "image/png": "[encoded data removed]",
            "text/plain": [
              "<Figure size 432x288 with 1 Axes>"
            ]
          },
          "metadata": {
            "needs_background": "light"
          }
        }
      ]
    },
    {
      "cell_type": "markdown",
      "source": [
        "cifar10     \n",
        "10種のラベル分類     \n",
        "学習データ50000, テストデータ10000"
      ],
      "metadata": {
        "id": "4a8tpMHajfi3"
      }
    },
    {
      "cell_type": "code",
      "source": [
        "# CIFAR-10のデータセットのインポート\n",
        "from keras.datasets import cifar10\n",
        "(x_train, d_train), (x_test, d_test) = cifar10.load_data()\n",
        "\n",
        "# CIFAR-10の正規化\n",
        "from keras.utils import to_categorical\n",
        "  \n",
        "# 特徴量の正規化\n",
        "x_train = x_train/255.\n",
        "x_test = x_test/255.\n",
        " \n",
        "# クラスラベルのone-hotベクトル化\n",
        "d_train = to_categorical(d_train, 10)\n",
        "d_test = to_categorical(d_test, 10)\n",
        " \n",
        "# モデルの構築 \n",
        "model = Sequential()\n",
        " \n",
        "model.add(Conv2D(32, (3, 3), padding='same', input_shape=x_train.shape[1:]))\n",
        "model.add(Activation('relu'))\n",
        "model.add(Conv2D(32, (3, 3)))\n",
        "model.add(Activation('relu'))\n",
        "model.add(MaxPooling2D(pool_size=(2, 2)))\n",
        "model.add(Dropout(0.25))\n",
        " \n",
        "model.add(Conv2D(64, (3, 3), padding='same'))\n",
        "model.add(Activation('relu'))\n",
        "model.add(Conv2D(64, (3, 3)))\n",
        "model.add(Activation('relu'))\n",
        "model.add(MaxPooling2D(pool_size=(2, 2)))\n",
        "model.add(Dropout(0.25))\n",
        " \n",
        "model.add(Flatten())\n",
        "model.add(Dense(512))\n",
        "model.add(Activation('relu'))\n",
        "model.add(Dropout(0.5))\n",
        "model.add(Dense(10))\n",
        "model.add(Activation('softmax'))\n",
        " \n",
        "# モデルのコンパイル\n",
        "model.compile(loss='categorical_crossentropy',optimizer='adam',metrics=['accuracy'])\n",
        " \n",
        "# 訓練\n",
        "history = model.fit(x_train, d_train, epochs=20)\n",
        " \n",
        "# モデルの保存\n",
        "model.save('./CIFAR-10.h5')\n",
        " \n",
        "#評価, 評価結果出力\n",
        "print(model.evaluate(x_test, d_test))"
      ],
      "metadata": {
        "colab": {
          "base_uri": "https://localhost:8080/"
        },
        "id": "gPy6tZtUnMxM",
        "outputId": "2da88fe9-9055-40c6-a2ef-cb545a417c43"
      },
      "execution_count": 32,
      "outputs": [
        {
          "output_type": "stream",
          "name": "stdout",
          "text": [
            "Epoch 1/20\n",
            "50000/50000 [==============================] - 241s 5ms/step - loss: 1.5261 - accuracy: 0.4459\n",
            "Epoch 2/20\n",
            "50000/50000 [==============================] - 234s 5ms/step - loss: 1.1487 - accuracy: 0.5916\n",
            "Epoch 3/20\n",
            "50000/50000 [==============================] - 233s 5ms/step - loss: 0.9927 - accuracy: 0.6491\n",
            "Epoch 4/20\n",
            "50000/50000 [==============================] - 234s 5ms/step - loss: 0.9024 - accuracy: 0.6818\n",
            "Epoch 5/20\n",
            "50000/50000 [==============================] - 233s 5ms/step - loss: 0.8402 - accuracy: 0.7045\n",
            "Epoch 6/20\n",
            "50000/50000 [==============================] - 233s 5ms/step - loss: 0.7881 - accuracy: 0.7222\n",
            "Epoch 7/20\n",
            "50000/50000 [==============================] - 233s 5ms/step - loss: 0.7506 - accuracy: 0.7379\n",
            "Epoch 8/20\n",
            "50000/50000 [==============================] - 234s 5ms/step - loss: 0.7128 - accuracy: 0.7497\n",
            "Epoch 9/20\n",
            "50000/50000 [==============================] - 235s 5ms/step - loss: 0.6816 - accuracy: 0.7587\n",
            "Epoch 10/20\n",
            "50000/50000 [==============================] - 236s 5ms/step - loss: 0.6564 - accuracy: 0.7682\n",
            "Epoch 11/20\n",
            "50000/50000 [==============================] - 235s 5ms/step - loss: 0.6413 - accuracy: 0.7743\n",
            "Epoch 12/20\n",
            "50000/50000 [==============================] - 235s 5ms/step - loss: 0.6184 - accuracy: 0.7813\n",
            "Epoch 13/20\n",
            "50000/50000 [==============================] - 235s 5ms/step - loss: 0.6078 - accuracy: 0.7862\n",
            "Epoch 14/20\n",
            "50000/50000 [==============================] - 234s 5ms/step - loss: 0.5884 - accuracy: 0.7938\n",
            "Epoch 15/20\n",
            "50000/50000 [==============================] - 234s 5ms/step - loss: 0.5693 - accuracy: 0.7993\n",
            "Epoch 16/20\n",
            "50000/50000 [==============================] - 234s 5ms/step - loss: 0.5620 - accuracy: 0.8015\n",
            "Epoch 17/20\n",
            "50000/50000 [==============================] - 233s 5ms/step - loss: 0.5371 - accuracy: 0.8115\n",
            "Epoch 18/20\n",
            "50000/50000 [==============================] - 233s 5ms/step - loss: 0.5411 - accuracy: 0.8117\n",
            "Epoch 19/20\n",
            "50000/50000 [==============================] - 232s 5ms/step - loss: 0.5232 - accuracy: 0.8179\n",
            "Epoch 20/20\n",
            "50000/50000 [==============================] - 232s 5ms/step - loss: 0.5144 - accuracy: 0.8186\n",
            "10000/10000 [==============================] - 11s 1ms/step\n",
            "[0.6708443163394928, 0.7821999788284302]\n"
          ]
        }
      ]
    },
    {
      "cell_type": "markdown",
      "source": [
        "RNN    \n",
        "2進数足し算の予測"
      ],
      "metadata": {
        "id": "y3sAnHldnuN3"
      }
    },
    {
      "cell_type": "code",
      "source": [
        "from keras.layers.wrappers import TimeDistributed\n",
        "from keras.optimizers import SGD\n",
        "from keras.layers.recurrent import SimpleRNN, LSTM, GRU\n",
        "\n",
        "# データを用意\n",
        "# 2進数の桁数\n",
        "binary_dim = 8\n",
        "# 最大値 + 1\n",
        "largest_number = pow(2, binary_dim)\n",
        "\n",
        "# largest_numberまで2進数を用意\n",
        "binary = np.unpackbits(np.array([range(largest_number)], dtype=np.uint8).T,axis=1)[:, ::-1]\n",
        "\n",
        "# A, B初期化 (a + b = d)\n",
        "a_int = np.random.randint(largest_number/2, size=20000)\n",
        "a_bin = binary[a_int]  # binary encoding\n",
        "b_int = np.random.randint(largest_number/2, size=20000)\n",
        "b_bin = binary[b_int]  # binary encoding\n",
        "\n",
        "x_int = []\n",
        "x_bin = []\n",
        "for i in range(10000):\n",
        "    x_int.append(np.array([a_int[i], b_int[i]]).T)\n",
        "    x_bin.append(np.array([a_bin[i], b_bin[i]]).T)\n",
        "\n",
        "x_int_test = []\n",
        "x_bin_test = []\n",
        "for i in range(10001, 20000):\n",
        "    x_int_test.append(np.array([a_int[i], b_int[i]]).T)\n",
        "    x_bin_test.append(np.array([a_bin[i], b_bin[i]]).T)\n",
        "\n",
        "x_int = np.array(x_int)\n",
        "x_bin = np.array(x_bin)\n",
        "x_int_test = np.array(x_int_test)\n",
        "x_bin_test = np.array(x_bin_test)\n",
        "\n",
        "\n",
        "# 正解データ\n",
        "d_int = a_int + b_int\n",
        "d_bin = binary[d_int][0:10000]\n",
        "d_bin_test = binary[d_int][10001:20000]\n",
        "\n",
        "\n",
        "# モデルの構築\n",
        "model = Sequential()\n",
        "model.add(SimpleRNN(units=16,\n",
        "                    return_sequences=True,\n",
        "                    input_shape=[8, 2],\n",
        "                    go_backwards=False,\n",
        "                    activation='relu'))\n",
        "\n",
        "# 出力層\n",
        "model.add(Dense(1, activation='sigmoid', input_shape=(-1, 2)))\n",
        "model.summary()\n",
        "model.compile(loss='mean_squared_error', optimizer=SGD(lr=0.1), metrics=['accuracy'])\n",
        "\n",
        "history = model.fit(x_bin, d_bin.reshape(-1, 8, 1), epochs=5, batch_size=2)\n",
        "\n",
        "# テスト結果出力\n",
        "score = model.evaluate(x_bin_test, d_bin_test.reshape(-1, 8, 1), verbose=0)\n",
        "print('test loss', score[0])\n",
        "print('test accuracy', score[1])"
      ],
      "metadata": {
        "colab": {
          "base_uri": "https://localhost:8080/"
        },
        "id": "nU2dLkjEn0XC",
        "outputId": "a3d0c82d-c788-4897-82e4-9efad1cf894d"
      },
      "execution_count": 34,
      "outputs": [
        {
          "output_type": "stream",
          "name": "stdout",
          "text": [
            "Model: \"sequential_16\"\n",
            "_________________________________________________________________\n",
            "Layer (type)                 Output Shape              Param #   \n",
            "=================================================================\n",
            "simple_rnn_1 (SimpleRNN)     (None, 8, 16)             304       \n",
            "_________________________________________________________________\n",
            "dense_32 (Dense)             (None, 8, 1)              17        \n",
            "=================================================================\n",
            "Total params: 321\n",
            "Trainable params: 321\n",
            "Non-trainable params: 0\n",
            "_________________________________________________________________\n",
            "Epoch 1/5\n",
            "10000/10000 [==============================] - 18s 2ms/step - loss: 0.1285 - accuracy: 0.8337\n",
            "Epoch 2/5\n",
            "10000/10000 [==============================] - 13s 1ms/step - loss: 0.0190 - accuracy: 0.9920\n",
            "Epoch 3/5\n",
            "10000/10000 [==============================] - 13s 1ms/step - loss: 0.0025 - accuracy: 1.0000\n",
            "Epoch 4/5\n",
            "10000/10000 [==============================] - 13s 1ms/step - loss: 0.0011 - accuracy: 1.0000\n",
            "Epoch 5/5\n",
            "10000/10000 [==============================] - 13s 1ms/step - loss: 6.8504e-04 - accuracy: 1.0000\n",
            "test loss 0.0005602163318096149\n",
            "test accuracy 1.0\n"
          ]
        }
      ]
    },
    {
      "cell_type": "code",
      "source": [
        ""
      ],
      "metadata": {
        "id": "OFlbJtuApz_S"
      },
      "execution_count": null,
      "outputs": []
    }
  ]
}