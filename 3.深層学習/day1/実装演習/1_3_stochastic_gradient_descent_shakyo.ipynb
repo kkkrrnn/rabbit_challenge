{
  "nbformat": 4,
  "nbformat_minor": 0,
  "metadata": {
    "colab": {
      "name": "1_3_stochastic_gradient_descent_shakyo.ipynb",
      "provenance": []
    },
    "kernelspec": {
      "name": "python3",
      "display_name": "Python 3"
    },
    "language_info": {
      "name": "python"
    }
  },
  "cells": [
    {
      "cell_type": "code",
      "execution_count": 1,
      "metadata": {
        "colab": {
          "base_uri": "https://localhost:8080/"
        },
        "id": "7CXMegwUtqt_",
        "outputId": "3721fcb0-aaf1-40aa-f8c3-cbf71f4b5368"
      },
      "outputs": [
        {
          "output_type": "stream",
          "name": "stdout",
          "text": [
            "Mounted at /content/drive\n"
          ]
        }
      ],
      "source": [
        "# google driveのマウント\n",
        "from google.colab import drive\n",
        "drive.mount('/content/drive')"
      ]
    },
    {
      "cell_type": "code",
      "source": [
        "# sys.pathの設定\n",
        "import sys\n",
        "sys.path.append('/content/drive/My Drive/DNN_code')"
      ],
      "metadata": {
        "id": "w7kF_702uVPV"
      },
      "execution_count": 2,
      "outputs": []
    },
    {
      "cell_type": "code",
      "source": [
        "# import と関数定義\n",
        "import numpy as np\n",
        "from common import functions\n",
        "import matplotlib.pyplot as plt\n",
        "\n",
        "def print_vec(text, vec):\n",
        "  print('***' + text + '***')\n",
        "  print(vec)\n",
        "  print('')"
      ],
      "metadata": {
        "id": "_iNbb4xmucBo"
      },
      "execution_count": 3,
      "outputs": []
    },
    {
      "cell_type": "markdown",
      "source": [
        "確率的勾配降下法"
      ],
      "metadata": {
        "id": "8Ekg8pJiuiGn"
      }
    },
    {
      "cell_type": "code",
      "source": [
        "def f(x):\n",
        "  y = 3 * x[0] + 2 * x[1]\n",
        "  return y\n",
        "\n",
        "\n",
        "# 初期設定\n",
        "def init_network():\n",
        "  network = {}\n",
        "  nodesNum = 10\n",
        "  # 平均0、分散1（標準偏差1）の正規分布（標準正規分布）に従う乱数を返す\n",
        "  # https://note.nkmk.me/python-numpy-random/\n",
        "  network['W1'] = np.random.randn(2, nodesNum)\n",
        "  network['W2'] = np.random.randn(nodesNum)\n",
        "  network['b1'] = np.random.randn(nodesNum)\n",
        "  network['b2'] = np.random.randn()\n",
        "\n",
        "  print_vec('重み1', network['W1'])\n",
        "  print_vec('重み2', network['W2'])\n",
        "  print_vec('バイアス1', network['b1'])\n",
        "  print_vec('バイアス2', network['b2'])\n",
        "\n",
        "  return network\n",
        "\n",
        "init_network()\n"
      ],
      "metadata": {
        "colab": {
          "base_uri": "https://localhost:8080/"
        },
        "id": "dIreMyWRulLj",
        "outputId": "257ed23b-3f53-4ce3-975e-bc24e46eba91"
      },
      "execution_count": 4,
      "outputs": [
        {
          "output_type": "stream",
          "name": "stdout",
          "text": [
            "***重み1***\n",
            "[[-0.42571981  0.61947231 -1.69456649  0.53242637  0.17557145  0.03071024\n",
            "   0.33561108 -0.16438472  1.78119173  0.43065084]\n",
            " [-1.22030056  0.19212638 -0.09452662 -0.46032639 -1.31163416  1.81800648\n",
            "   0.01774129  1.81217612  1.84698723  1.58963054]]\n",
            "\n",
            "***重み2***\n",
            "[-0.46434778  0.75035464  0.43131237 -0.71874885 -2.10284021 -0.7951899\n",
            "  0.60042577  1.83022794  0.04215345  0.52650492]\n",
            "\n",
            "***バイアス1***\n",
            "[-0.72968522  0.89581745 -0.95390216 -0.51555369 -0.28282621  1.79465577\n",
            " -0.32577086  1.67699746 -1.12898147  0.69899514]\n",
            "\n",
            "***バイアス2***\n",
            "-1.1004408562431767\n",
            "\n"
          ]
        },
        {
          "output_type": "execute_result",
          "data": {
            "text/plain": [
              "{'W1': array([[-0.42571981,  0.61947231, -1.69456649,  0.53242637,  0.17557145,\n",
              "          0.03071024,  0.33561108, -0.16438472,  1.78119173,  0.43065084],\n",
              "        [-1.22030056,  0.19212638, -0.09452662, -0.46032639, -1.31163416,\n",
              "          1.81800648,  0.01774129,  1.81217612,  1.84698723,  1.58963054]]),\n",
              " 'W2': array([-0.46434778,  0.75035464,  0.43131237, -0.71874885, -2.10284021,\n",
              "        -0.7951899 ,  0.60042577,  1.83022794,  0.04215345,  0.52650492]),\n",
              " 'b1': array([-0.72968522,  0.89581745, -0.95390216, -0.51555369, -0.28282621,\n",
              "         1.79465577, -0.32577086,  1.67699746, -1.12898147,  0.69899514]),\n",
              " 'b2': -1.1004408562431767}"
            ]
          },
          "metadata": {},
          "execution_count": 4
        }
      ]
    },
    {
      "cell_type": "code",
      "source": [
        "# 順伝播\n",
        "def forward(network, x):\n",
        "  W1, W2 = network['W1'], network['W2']\n",
        "  b1, b2 = network['b1'], network['b2']\n",
        "  u1 = np.dot(x, W1) + b1\n",
        "  z1 = functions.relu(u1)\n",
        "\n",
        "  u2 = np.dot(z1, W2) + b2\n",
        "  y = u2\n",
        "\n",
        "  return z1, y\n",
        "\n",
        "def backward(network, x, d, z1, y):\n",
        "  # print('\\n### 誤差逆伝播開始 ###')\n",
        "\n",
        "  grad = {}\n",
        "\n",
        "  W1, W2 = network['W1'], network['W2']\n",
        "  b1, b2 = network['b1'], network['b2']\n",
        "\n",
        "  # 出力層のデルタ\n",
        "  delta2 = functions.d_sigmoid_with_loss(d, y)\n",
        "\n",
        "  # b2の勾配\n",
        "  grad['b2'] = np.sum(delta2, axis=0)\n",
        "  # W2の勾配\n",
        "  grad['W2'] = np.dot(z1.T, delta2)\n",
        "\n",
        "  # 中間層でのデルタ\n",
        "  delta1 = np.dot(delta2, W2.T) * functions.d_sigmoid(z1)\n",
        "  delta1 = delta1[np.newaxis, :]\n",
        "\n",
        "  # b1の勾配\n",
        "  grad['b1'] = np.sum(delta1, axis=0)\n",
        "  x = x[np.newaxis, :]\n",
        "  # W1の勾配\n",
        "  grad['W1'] = np.dot(x.T, delta1)\n",
        "\n",
        "  # print_vec('偏微分_dE/du2', delta2)\n",
        "  # print_vec('偏微分_dE/du1', delta1)\n",
        "\n",
        "  # print_vec('偏微分_重み1', grad['W1'])\n",
        "  # print_vec('偏微分_重み2', grad['W2'])\n",
        "  # print_vec('偏微分_バイアス1', grad['b1'])\n",
        "  # print_vec('偏微分_バイアス2', grad['b2'])\n",
        "\n",
        "  return grad\n"
      ],
      "metadata": {
        "id": "pwol9oE8v76u"
      },
      "execution_count": 5,
      "outputs": []
    },
    {
      "cell_type": "code",
      "source": [
        "# サンプルデータを作成\n",
        "data_sets_size = 100000\n",
        "data_sets = [0 for i in range(data_sets_size)]\n",
        "\n",
        "for i in range(data_sets_size):\n",
        "  data_sets[i] = {}\n",
        "  # ランダムな値を設定\n",
        "  # np.random.rand()は[0.0, 1.0)（0.0以上、1.0未満）の乱数を返す。\n",
        "  data_sets[i]['x'] = np.random.rand(2)\n",
        "\n",
        "  # 目標出力を設定\n",
        "  data_sets[i]['d'] = f(data_sets[i]['x'])\n",
        "\n",
        "losses = []\n",
        "# 学習率\n",
        "learning_rate = 0.07\n",
        "\n",
        "# 抽出数\n",
        "epoch = 1000\n",
        "\n",
        "# パラメータの初期化\n",
        "network = init_network()\n",
        "# データのランダム抽出\n",
        "random_datasets = np.random.choice(data_sets, epoch)\n",
        "\n",
        "\n",
        "# 勾配降下の繰り返し\n",
        "for dataset in random_datasets:\n",
        "  x, d = dataset['x'], dataset['d']\n",
        "  z1, y = forward(network, x)\n",
        "  grad = backward(network, x, d, z1, y)\n",
        "  # パラメータに勾配適用\n",
        "  for key in ('W1', 'W2', 'b1', 'b2'):\n",
        "    network[key] -= learning_rate * grad[key]\n",
        "  \n",
        "  # 誤差\n",
        "  loss = functions.mean_squared_error(d, y)\n",
        "  losses.append(loss)\n",
        "\n",
        "print('### 結果表示 ###')\n",
        "lists = range(epoch)\n",
        "\n",
        "plt.plot(lists, losses, '.')\n",
        "\n",
        "# グラフの表示\n",
        "plt.show()\n"
      ],
      "metadata": {
        "colab": {
          "base_uri": "https://localhost:8080/",
          "height": 577
        },
        "id": "Ip255qMOxPoS",
        "outputId": "9b88ef8c-be15-41fe-b109-50f64d7a4b1d"
      },
      "execution_count": 6,
      "outputs": [
        {
          "output_type": "stream",
          "name": "stdout",
          "text": [
            "***重み1***\n",
            "[[-1.16104004  0.63501613  0.68367999 -0.65356431 -0.87944023 -0.3647958\n",
            "  -0.031062    0.53983673 -0.49313489  0.85130786]\n",
            " [ 0.06590446  0.78895771 -0.22277303  0.19226576  0.17295633 -0.50701398\n",
            "   0.19666318  0.35400706  0.99103694 -0.79954122]]\n",
            "\n",
            "***重み2***\n",
            "[-1.46808664  0.24905474  0.42005202 -0.29482477  0.36743813  0.31203224\n",
            "  1.20545246  1.64013832 -0.43671098 -0.97994962]\n",
            "\n",
            "***バイアス1***\n",
            "[ 1.1221729  -1.27919291  1.25816642  1.04426538 -0.60605425  2.10516662\n",
            "  0.0390976  -1.00984054 -0.55564075 -0.02780471]\n",
            "\n",
            "***バイアス2***\n",
            "0.46964495930779737\n",
            "\n",
            "### 結果表示 ###\n"
          ]
        },
        {
          "output_type": "display_data",
          "data": {
            "image/png": "[encoded data removed]",
            "text/plain": [
              "<Figure size 432x288 with 1 Axes>"
            ]
          },
          "metadata": {
            "needs_background": "light"
          }
        }
      ]
    },
    {
      "cell_type": "code",
      "source": [
        ""
      ],
      "metadata": {
        "id": "lofK4RkMyG1W"
      },
      "execution_count": 6,
      "outputs": []
    }
  ]
}