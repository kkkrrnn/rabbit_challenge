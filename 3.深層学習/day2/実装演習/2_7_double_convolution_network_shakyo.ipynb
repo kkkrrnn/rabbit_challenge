{
  "nbformat": 4,
  "nbformat_minor": 0,
  "metadata": {
    "colab": {
      "name": "2_7_double_convolution_network_shakyo.ipynb",
      "provenance": []
    },
    "kernelspec": {
      "name": "python3",
      "display_name": "Python 3"
    },
    "language_info": {
      "name": "python"
    }
  },
  "cells": [
    {
      "cell_type": "code",
      "execution_count": 1,
      "metadata": {
        "colab": {
          "base_uri": "https://localhost:8080/"
        },
        "id": "CuJsrdn28VHD",
        "outputId": "940a2e63-4ac1-475f-ce5f-0470969e037a"
      },
      "outputs": [
        {
          "output_type": "stream",
          "name": "stdout",
          "text": [
            "Mounted at /content/drive\n"
          ]
        }
      ],
      "source": [
        "# google driveのマウント\n",
        "from google.colab import drive\n",
        "drive.mount('/content/drive')"
      ]
    },
    {
      "cell_type": "code",
      "source": [
        "# sys.pathの設定\n",
        "import sys\n",
        "sys.path.append('/content/drive/My Drive/DNN_code')"
      ],
      "metadata": {
        "id": "T-Casbez8fsT"
      },
      "execution_count": 2,
      "outputs": []
    },
    {
      "cell_type": "markdown",
      "source": [
        "double_convolution_network"
      ],
      "metadata": {
        "id": "cdlhQ_vF8log"
      }
    },
    {
      "cell_type": "code",
      "source": [
        "import pickle\n",
        "import numpy as np\n",
        "from collections import OrderedDict\n",
        "from common import layers\n",
        "from common import optimizer\n",
        "from data.mnist import load_mnist\n",
        "import matplotlib.pyplot as plt\n",
        "\n",
        "class DoubleConvNet:\n",
        "  # conv - relu - pool - conv - relu - pool - affine - relu - affine - softmax で構成\n",
        "  def __init__(self, input_dim=(1, 28, 28), \n",
        "               conv_param_1={'filter_num': 10, 'filter_size': 7, 'pad': 1, 'stride': 1},\n",
        "               conv_param_2={'filter_num': 20, 'filter_size': 3, 'pad': 1, 'stride': 1},\n",
        "               hidden_size=100, output_size=10, weight_init_std=0.01):\n",
        "\n",
        "    conv_output_size_1 = (input_dim[1] - conv_param_1['filter_size'] + 2 * conv_param_1['pad']) / conv_param_1['stride'] + 1\n",
        "    conv_output_size_2 = (conv_output_size_1 / 2 - conv_param_2['filter_size'] + 2 * conv_param_2['pad']) / conv_param_2['stride'] + 1        \n",
        "    pool_output_size = int(conv_param_2['filter_num'] * (conv_output_size_2 / 2) * (conv_output_size_2 / 2))        \n",
        "\n",
        "    # 重みの初期化\n",
        "    self.params = {}\n",
        "    self.params['W1'] = weight_init_std * np.random.randn(conv_param_1['filter_num'], input_dim[0], conv_param_1['filter_size'], conv_param_1['filter_size'])\n",
        "    self.params['b1'] = np.zeros(conv_param_1['filter_num'])\n",
        "    self.params['W2'] = weight_init_std * np.random.randn(conv_param_2['filter_num'], conv_param_1['filter_num'], conv_param_2['filter_size'], conv_param_2['filter_size'])\n",
        "    self.params['b2'] = np.zeros(conv_param_2['filter_num'])\n",
        "    self.params['W3'] = weight_init_std * np.random.randn(pool_output_size, hidden_size)\n",
        "    self.params['b3'] = np.zeros(hidden_size)\n",
        "    self.params['W4'] = weight_init_std * np.random.randn(hidden_size, output_size)\n",
        "    self.params['b4'] = np.zeros(output_size)\n",
        "\n",
        "    # レイヤの生成\n",
        "    self.layers = OrderedDict()\n",
        "    self.layers['Conv1'] = layers.Convolution(self.params['W1'], self.params['b1'], conv_param_1['stride'], conv_param_1['pad'])\n",
        "    self.layers['Relu1'] = layers.Relu()\n",
        "    self.layers['Pool1'] = layers.Pooling(pool_h=2, pool_w=2, stride=2)\n",
        "    self.layers['Conv2'] = layers.Convolution(self.params['W2'], self.params['b2'], conv_param_2['stride'], conv_param_2['pad'])\n",
        "    self.layers['Relu2'] = layers.Relu()\n",
        "    self.layers['Pool2'] = layers.Pooling(pool_h=2, pool_w=2, stride=2)\n",
        "    self.layers['Affine1'] = layers.Affine(self.params['W3'], self.params['b3'])\n",
        "    self.layers['Relu3'] = layers.Relu()\n",
        "    self.layers['Affine2'] = layers.Affine(self.params['W4'], self.params['b4'])\n",
        "\n",
        "    self.last_layer = layers.SoftmaxWithLoss()\n",
        "\n",
        "  def predict(self, x):\n",
        "    for key in self.layers.keys():\n",
        "        x = self.layers[key].forward(x)\n",
        "    return x\n",
        "        \n",
        "  def loss(self, x, d):\n",
        "    y = self.predict(x)\n",
        "    return self.last_layer.forward(y, d)\n",
        "\n",
        "  def accuracy(self, x, d, batch_size=100):\n",
        "    if d.ndim != 1 : d = np.argmax(d, axis=1)\n",
        "        \n",
        "    acc = 0.0\n",
        "        \n",
        "    for i in range(int(x.shape[0] / batch_size)):\n",
        "        tx = x[i*batch_size:(i+1)*batch_size]\n",
        "        td = d[i*batch_size:(i+1)*batch_size]\n",
        "        y = self.predict(tx)\n",
        "        y = np.argmax(y, axis=1)\n",
        "        acc += np.sum(y == td) \n",
        "        \n",
        "    return acc / x.shape[0]\n",
        "\n",
        "  def gradient(self, x, d):\n",
        "    # forward\n",
        "    self.loss(x, d)\n",
        "        \n",
        "    # backward\n",
        "    dout = 1\n",
        "    dout = self.last_layer.backward(dout)\n",
        "    layers = list(self.layers.values())\n",
        "        \n",
        "    layers.reverse()\n",
        "    for layer in layers:\n",
        "        dout = layer.backward(dout)\n",
        "\n",
        "    # 設定\n",
        "    grad = {}\n",
        "    grad['W1'], grad['b1'] = self.layers['Conv1'].dW, self.layers['Conv1'].db\n",
        "    grad['W2'], grad['b2'] = self.layers['Conv2'].dW, self.layers['Conv2'].db\n",
        "    grad['W3'], grad['b3'] = self.layers['Affine1'].dW, self.layers['Affine1'].db\n",
        "    grad['W4'], grad['b4'] = self.layers['Affine2'].dW, self.layers['Affine2'].db\n",
        "\n",
        "    return grad\n",
        "\n",
        "\n"
      ],
      "metadata": {
        "id": "VPR76MFp8qGY"
      },
      "execution_count": 5,
      "outputs": []
    },
    {
      "cell_type": "code",
      "source": [
        "from common import optimizer\n",
        "\n",
        "# データの読み込み\n",
        "(x_train, d_train), (x_test, d_test) = load_mnist(flatten=False)\n",
        "\n",
        "x_train, d_train = x_train[:5000], d_train[:5000]\n",
        "x_test, d_test = x_test[:1000], d_test[:1000]\n",
        "\n",
        "network = DoubleConvNet(input_dim=(1, 28, 28), \n",
        "                        conv_param_1={'filter_num': 10, 'filter_size': 7, 'pad': 1, 'stride':1},\n",
        "                        conv_param_2={'filter_num': 20, 'filter_size': 3, 'pad': 1, 'stride':1},\n",
        "                        hidden_size=100, output_size=10, weight_init_std=0.01)\n",
        "optimizer = optimizer.Adam()\n",
        "\n",
        "iters_num = 100\n",
        "train_size = x_train.shape[0]\n",
        "batch_size = 100\n",
        "\n",
        "train_loss_list = []\n",
        "accuracies_train = []\n",
        "accuracies_test = []\n",
        "\n",
        "plot_interval = 10\n",
        "\n",
        "for i in range(iters_num):\n",
        "  batch_mask = np.random.choice(train_size, batch_size)\n",
        "  x_batch = x_train[batch_mask]\n",
        "  d_batch = d_train[batch_mask]\n",
        "\n",
        "  # 勾配\n",
        "  grad = network.gradient(x_batch, d_batch)\n",
        "  optimizer.update(network.params, grad)\n",
        "\n",
        "  loss = network.loss(x_batch, d_batch)\n",
        "  train_loss_list.append(loss)\n",
        "\n",
        "\n",
        "  if (i + 1) % plot_interval == 0:\n",
        "    accr_train = network.accuracy(x_batch, d_batch)\n",
        "    accuracies_train.append(accr_train)\n",
        "    accr_test = network.accuracy(x_test, d_test)\n",
        "    accuracies_test.append(accr_test)\n",
        "\n",
        "    print('Generation: '+ str(i+1) + '.正答率（train) = ' + str(accr_train))\n",
        "    print('             :' + str(i+1) + '.正答率(test) =' + str(accr_test))\n",
        "\n",
        "lists = range(0, iters_num, plot_interval)\n",
        "plt.plot(lists, accuracies_train, label='training set')\n",
        "plt.plot(lists, accuracies_test, label='test set')\n",
        "plt.legend(loc='lower right')\n",
        "plt.title('accuracy')\n",
        "plt.xlabel('count')\n",
        "plt.ylabel('accuracy')\n",
        "plt.ylim(0, 1.0)\n",
        "# グラフの表示\n",
        "plt.show()\n"
      ],
      "metadata": {
        "colab": {
          "base_uri": "https://localhost:8080/",
          "height": 642
        },
        "id": "ip7Or7JY_BGs",
        "outputId": "7ec332dd-ca1d-4285-ce70-00757e1d9867"
      },
      "execution_count": 7,
      "outputs": [
        {
          "output_type": "stream",
          "name": "stdout",
          "text": [
            "Generation: 10.正答率（train) = 0.04\n",
            "             :10.正答率(test) =0.099\n",
            "Generation: 20.正答率（train) = 0.18\n",
            "             :20.正答率(test) =0.295\n",
            "Generation: 30.正答率（train) = 0.56\n",
            "             :30.正答率(test) =0.51\n",
            "Generation: 40.正答率（train) = 0.65\n",
            "             :40.正答率(test) =0.602\n",
            "Generation: 50.正答率（train) = 0.66\n",
            "             :50.正答率(test) =0.628\n",
            "Generation: 60.正答率（train) = 0.64\n",
            "             :60.正答率(test) =0.676\n",
            "Generation: 70.正答率（train) = 0.75\n",
            "             :70.正答率(test) =0.7\n",
            "Generation: 80.正答率（train) = 0.76\n",
            "             :80.正答率(test) =0.742\n",
            "Generation: 90.正答率（train) = 0.7\n",
            "             :90.正答率(test) =0.776\n",
            "Generation: 100.正答率（train) = 0.78\n",
            "             :100.正答率(test) =0.758\n"
          ]
        },
        {
          "output_type": "display_data",
          "data": {
            "image/png": "[encoded data removed]",
            "text/plain": [
              "<Figure size 432x288 with 1 Axes>"
            ]
          },
          "metadata": {
            "needs_background": "light"
          }
        }
      ]
    },
    {
      "cell_type": "code",
      "source": [
        ""
      ],
      "metadata": {
        "id": "vWN5mjY7Cqlc"
      },
      "execution_count": null,
      "outputs": []
    }
  ]
}