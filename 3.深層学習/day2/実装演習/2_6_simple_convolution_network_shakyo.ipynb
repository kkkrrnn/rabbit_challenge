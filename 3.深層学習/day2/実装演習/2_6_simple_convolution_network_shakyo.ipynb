{
  "nbformat": 4,
  "nbformat_minor": 0,
  "metadata": {
    "colab": {
      "name": "2_6_simple_convolution_network_shakyo.ipynb",
      "provenance": []
    },
    "kernelspec": {
      "name": "python3",
      "display_name": "Python 3"
    },
    "language_info": {
      "name": "python"
    }
  },
  "cells": [
    {
      "cell_type": "code",
      "execution_count": 1,
      "metadata": {
        "colab": {
          "base_uri": "https://localhost:8080/"
        },
        "id": "A8DQcbuHiLJm",
        "outputId": "356df103-c5a2-492c-c164-8131eeca3c94"
      },
      "outputs": [
        {
          "output_type": "stream",
          "name": "stdout",
          "text": [
            "Mounted at /content/drive\n"
          ]
        }
      ],
      "source": [
        "# google driveのマウント\n",
        "from google.colab import drive\n",
        "drive.mount('/content/drive')"
      ]
    },
    {
      "cell_type": "code",
      "source": [
        "# sys.pathの設定\n",
        "import sys\n",
        "sys.path.append('/content/drive/My Drive/DNN_code')"
      ],
      "metadata": {
        "id": "osqd72vbiVcs"
      },
      "execution_count": 2,
      "outputs": []
    },
    {
      "cell_type": "markdown",
      "source": [
        "simple convolution network   \n",
        "image to column     \n",
        "フィルターによって都合の良いように入力データを展開する関数    \n",
        "ex.) 3次元の入力データを2次元の行列に変換"
      ],
      "metadata": {
        "id": "m8lUliCiih0z"
      }
    },
    {
      "cell_type": "code",
      "source": [
        "import pickle\n",
        "import numpy as np\n",
        "from collections import OrderedDict\n",
        "from common import layers\n",
        "from common import optimizer\n",
        "from data.mnist import load_mnist\n",
        "import matplotlib.pyplot as plt\n",
        "\n",
        "# 画像データを2次元配列に変換\n",
        "def im2col(input_data, filter_h, filter_w, stride=1, pad=0):\n",
        "  '''\n",
        "  input_data : 入力値\n",
        "  filter_h : フィルターの高さ\n",
        "  filter_w : フィルターの横幅\n",
        "  stride : ストライド\n",
        "  pad : パディング\n",
        "  '''\n",
        "  # N : number, C : channel, H : height, W : width\n",
        "  N, C, H, W = input_data.shape\n",
        "  out_h = (H + 2 * pad - filter_h) // stride + 1\n",
        "  out_w = (W + 2 * pad - filter_w) // stride + 1\n",
        "\n",
        "  # パディング処理\n",
        "  img = np.pad(input_data, [(0,0), (0,0), (pad, pad), (pad, pad)], 'constant')\n",
        "  col = np.zeros((N, C, filter_h, filter_w, out_h, out_w))\n",
        "\n",
        "  for y in range(filter_h):\n",
        "    y_max = y + stride * out_h\n",
        "    for x in range(filter_w):\n",
        "      x_max = x + stride * out_w\n",
        "      col[:, :, y, x, :, :] = img[:, :, y:y_max:stride, x:x_max:stride]\n",
        "  \n",
        "  # (N, C, filter_h, filter_w, out_h, out_w) -> (N, filter_w, out_h, out_w, C, filter_h)\n",
        "  col = col.transpose(0, 4, 5, 1, 2, 3)\n",
        "\n",
        "  col = col.reshape(N * out_h * out_w, -1)\n",
        "  return col\n",
        "\n"
      ],
      "metadata": {
        "id": "duvgtFPDipBf"
      },
      "execution_count": 3,
      "outputs": []
    },
    {
      "cell_type": "code",
      "source": [
        "# im2colの処理を確認\n",
        "input_data = np.random.rand(2, 1, 4, 4)*100//1  # number, channel, height, width\n",
        "print('=====input_data=====\\n', input_data)\n",
        "print('==================')\n",
        "filter_h = 3\n",
        "filter_w = 3\n",
        "stride = 1\n",
        "pad = 0\n",
        "col = im2col(input_data, filter_h, filter_w, stride, pad)\n",
        "print('=====col=====\\n', col)\n",
        "print('============')"
      ],
      "metadata": {
        "colab": {
          "base_uri": "https://localhost:8080/"
        },
        "id": "R4V_jl_wmP1j",
        "outputId": "0ed40685-2f6f-4eba-9bab-4a8482b8c10d"
      },
      "execution_count": 8,
      "outputs": [
        {
          "output_type": "stream",
          "name": "stdout",
          "text": [
            "=====input_data=====\n",
            " [[[[85. 75. 50. 67.]\n",
            "   [67. 14. 91. 87.]\n",
            "   [92. 27. 82. 77.]\n",
            "   [50. 39. 56. 67.]]]\n",
            "\n",
            "\n",
            " [[[55. 74. 26. 25.]\n",
            "   [74. 72. 77. 49.]\n",
            "   [67. 12. 63. 19.]\n",
            "   [46. 82. 56. 75.]]]]\n",
            "==================\n",
            "=====col=====\n",
            " [[85. 75. 50. 67. 14. 91. 92. 27. 82.]\n",
            " [75. 50. 67. 14. 91. 87. 27. 82. 77.]\n",
            " [67. 14. 91. 92. 27. 82. 50. 39. 56.]\n",
            " [14. 91. 87. 27. 82. 77. 39. 56. 67.]\n",
            " [55. 74. 26. 74. 72. 77. 67. 12. 63.]\n",
            " [74. 26. 25. 72. 77. 49. 12. 63. 19.]\n",
            " [74. 72. 77. 67. 12. 63. 46. 82. 56.]\n",
            " [72. 77. 49. 12. 63. 19. 82. 56. 75.]]\n",
            "============\n"
          ]
        }
      ]
    },
    {
      "cell_type": "markdown",
      "source": [
        "column to image"
      ],
      "metadata": {
        "id": "A-dy-07lmhbj"
      }
    },
    {
      "cell_type": "code",
      "source": [
        "# 2次元配列を画像データに変換\n",
        "def col2im(col, input_shape, filter_h, filter_w, stride=1, pad=0):\n",
        "  # N : number, C : channel, H : height, W : width\n",
        "  N, C, H, W = input_shape\n",
        "  # 切り捨て除算\n",
        "  out_h = (H + 2 * pad - filter_h)//stride + 1\n",
        "  out_w = (W + 2 * pad - filter_w)//stride + 1\n",
        "  col = col.reshape(N, out_h, out_w, C, filter_h, filter_w).transpose(0, 3, 4, 5, 1, 2)  # (N, filter_h, filter_w, out_h, out_w, C)\n",
        "  \n",
        "  img = np.zeros((N, C, H + 2* pad + stride -1, W + 2 * pad + stride -1))\n",
        "  for y in range(filter_h):\n",
        "    y_max = y + stride * out_h\n",
        "    for x in range(filter_w):\n",
        "      x_max = x + stride * out_w\n",
        "      img[:, :, y:y_max:stride, x:x_max:stride] += col[:, :, y, x, :, :]\n",
        "  \n",
        "  return img[:, :, pad:H + pad, pad:W + pad]"
      ],
      "metadata": {
        "id": "fPBrnA7snZpV"
      },
      "execution_count": 12,
      "outputs": []
    },
    {
      "cell_type": "code",
      "source": [
        " col = np.array( [[85, 75, 50, 67, 14, 91, 92, 27, 82],\n",
        "          [75, 50, 67, 14, 91, 87, 27, 82, 77],\n",
        "          [67, 14, 91, 92, 27, 82, 50, 39, 56],\n",
        "          [14, 91, 87, 27, 82, 77, 39, 56, 67],\n",
        "          [55, 74, 26, 74, 72, 77, 67, 12, 63],\n",
        "          [74, 26, 25, 72, 77, 49, 12, 63, 19],\n",
        "          [74, 72, 77, 67, 12, 63, 46, 82, 56],\n",
        "          [72, 77, 49, 12, 63, 19, 82, 56, 75]])\n",
        " \n",
        "filter_h = 3\n",
        "filter_w = 3\n",
        "stride = 1\n",
        "pad = 0\n",
        "image = col2im(col, (2,1,4,4), filter_h, filter_w, stride, pad)\n",
        "print(image)"
      ],
      "metadata": {
        "colab": {
          "base_uri": "https://localhost:8080/"
        },
        "id": "0QdhENQeoyaQ",
        "outputId": "fc3933e5-fddb-4512-c87b-37824992963d"
      },
      "execution_count": 13,
      "outputs": [
        {
          "output_type": "stream",
          "name": "stdout",
          "text": [
            "[[[[ 85. 150. 100.  67.]\n",
            "   [134.  56. 364. 174.]\n",
            "   [184. 108. 328. 154.]\n",
            "   [ 50.  78. 112.  67.]]]\n",
            "\n",
            "\n",
            " [[[ 55. 148.  52.  25.]\n",
            "   [148. 288. 308.  98.]\n",
            "   [134.  48. 252.  38.]\n",
            "   [ 46. 164. 112.  75.]]]]\n"
          ]
        }
      ]
    },
    {
      "cell_type": "markdown",
      "source": [
        "convolution class"
      ],
      "metadata": {
        "id": "AuGLfU5-s3nX"
      }
    },
    {
      "cell_type": "code",
      "source": [
        "class Convolution:\n",
        "  # W : フィルター, b: バイアス\n",
        "  def __init__(self, W, b, stride=1, pad=0):\n",
        "    self.W = W\n",
        "    self.b = b\n",
        "    self.stride = stride\n",
        "    self.pad = pad\n",
        "\n",
        "    # 中間データ(backward時に使用)\n",
        "    self.x = None\n",
        "    self.col = None\n",
        "    self.col_W = None\n",
        "\n",
        "    # フィルター・バイアスパラメータの勾配\n",
        "    self.dW = None\n",
        "    self.db = None\n",
        "\n",
        "  def forward(self, x):\n",
        "    # FN: filter_number, C:channel, FH: filter_height, FW: filter_width\n",
        "    FN, C, FH, FW = self.W.shape\n",
        "    N, C, H, W = x.shape\n",
        "    # 出力値のheight, width\n",
        "    out_h = 1 + int((H + 2 * self.pad - FH) / self.stride)\n",
        "    out_w = 1 + int((H + 2 * self.pad - FW) / self.stride)\n",
        "\n",
        "    # x を行列に変換\n",
        "    col = im2col(x, FH, FW, self.stride, self.pad)\n",
        "    # フィルタをxに合わせた行列に変換\n",
        "    col_W = self.W.reshape(FN, -1).T\n",
        "\n",
        "    # 畳み込み計算\n",
        "    out = np.dot(col, col_W) + self.b\n",
        "\n",
        "    # 計算のために変えた形式を戻す\n",
        "    out = out.reshape(N, out_h, out_w, -1).transpose(0, 3, 1, 2)\n",
        "\n",
        "    self.x = x\n",
        "    self.col = col\n",
        "    self.col_W = col_W\n",
        "\n",
        "    return out\n",
        "\n",
        "  def backward(self, dout):\n",
        "    FN, C, FH, FW = self.W.shape\n",
        "    dout = dout.transpose(0, 2, 3, 1).reshape(-1, FN)\n",
        "\n",
        "    self.db = np.sum(dout, axis=0)\n",
        "    self.dW = np.dot(self.col.T, dout)\n",
        "    self.dW = self.dW.transpose(1, 0).reshape(FN, C, FH, FW)\n",
        "\n",
        "    dcol = np.dot(dout, self.col_W.T)\n",
        "    # dcolを画像データに変換\n",
        "    dx = col2im(dcol, self.x.shape, FH, FW, self.stride, self.pad)\n",
        "\n",
        "    return dx"
      ],
      "metadata": {
        "id": "qJ7LIXlZs6EU"
      },
      "execution_count": 14,
      "outputs": []
    },
    {
      "cell_type": "markdown",
      "source": [
        "pooling class"
      ],
      "metadata": {
        "id": "9rNrF-3tv-4q"
      }
    },
    {
      "cell_type": "code",
      "source": [
        "class Pooling:\n",
        "  def __init__(self, pool_h, pool_w, stride=1, pad=0):\n",
        "    self.pool_h = pool_h\n",
        "    self.pool_w = pool_w\n",
        "    self.stride = stride\n",
        "    self.pad = pad\n",
        "\n",
        "    self.x = None\n",
        "    self.arg_max = None\n",
        "\n",
        "  def forward(self, x):\n",
        "    N, C, H, W = x.shape\n",
        "    out_h = int(1 + (H - self.pool_h) / self.stride)\n",
        "    out_w = int(1 + (W - self.pool_w) / self.stride)\n",
        "\n",
        "    # xを行列に変換\n",
        "    col = im2col(x, self.pool_h, self.pool_w, self.stride, self.pad)\n",
        "    # プーリングのサイズに合わせリサイズ\n",
        "    col = col.reshape(-1, self.pool_h*self.pool_w)\n",
        "\n",
        "    # 行ごとに最大値を求める（max pooling)\n",
        "    arg_max = np.argmax(col, axis=1)\n",
        "    out = np.max(col, axis=1)\n",
        "\n",
        "    # 整形\n",
        "    out = out.reshape(N, out_h, out_w, C).transpose(0, 3, 1, 2)\n",
        "\n",
        "    self.x = x\n",
        "    self.arg_max = arg_max\n",
        "\n",
        "    return out\n",
        "\n",
        "  def backward(self, dout):\n",
        "    dout = dout.transpose(0, 2, 3, 1)\n",
        "\n",
        "    pool_size = self.pool_h * self.pool_w\n",
        "    dmax = np.zeros((dout.size, pool_size))\n",
        "    dmax[np.arange(self.arg_max.size), self.arg_max.flatten()] = dout.flatten()\n",
        "    dmax = dmax.reshape(dout.shape + (pool_size,))\n",
        "\n",
        "    dcol = dmax.reshape(dmax.shape[0] * dmax.shape[1] * dmax.shape[2], -1)\n",
        "    dx = col2im(dcol, self.x.shape, self.pool_h, self.pool_w, self.stride, self.pad)\n",
        "\n",
        "    return dx\n",
        "\n"
      ],
      "metadata": {
        "id": "SlxXFqwmwFeW"
      },
      "execution_count": 29,
      "outputs": []
    },
    {
      "cell_type": "markdown",
      "source": [
        "simple convolution network class"
      ],
      "metadata": {
        "id": "aNhvifyux-WY"
      }
    },
    {
      "cell_type": "code",
      "source": [
        "class SimpleConvNet:\n",
        "  # conv - relu - pool - affine - relu - affine - softmax で構成\n",
        "  def __init__(self, input_dim=(1, 28, 28), conv_param={'filter_num':30, 'filter_size':5, 'pad':0, 'stride':1},\n",
        "               hidden_size=100, output_size=10, weight_init_std=0.01):\n",
        "    filter_num = conv_param['filter_num']        \n",
        "    filter_size = conv_param['filter_size']\n",
        "    filter_pad = conv_param['pad']\n",
        "    filter_stride = conv_param['stride']\n",
        "    \n",
        "    input_size = input_dim[1]\n",
        "    conv_output_size = (input_size - filter_size + 2 * filter_pad) / filter_stride + 1\n",
        "    pool_output_size = int(filter_num * (conv_output_size / 2) * (conv_output_size / 2))\n",
        "\n",
        "    # 重みの初期化\n",
        "    self.params = {}\n",
        "    self.params['W1'] = weight_init_std * np.random.randn(filter_num, input_dim[0], filter_size, filter_size)\n",
        "    self.params['b1'] = np.zeros(filter_num)\n",
        "    self.params['W2'] = weight_init_std * np.random.randn(pool_output_size, hidden_size)\n",
        "    self.params['b2'] = np.zeros(hidden_size)\n",
        "    self.params['W3'] = weight_init_std * np.random.randn(hidden_size, output_size)\n",
        "    self.params['b3'] = np.zeros(output_size)\n",
        "\n",
        "    # レイヤの生成\n",
        "    self.layers = OrderedDict()\n",
        "    self.layers['Conv1'] = Convolution(self.params['W1'], self.params['b1'], conv_param['stride'], conv_param['pad'])\n",
        "    self.layers['Relu1'] = layers.Relu()\n",
        "    self.layers['Pool1'] = Pooling(pool_h=2, pool_w=2, stride=2)\n",
        "    self.layers['Affine1'] = layers.Affine(self.params['W2'], self.params['b2'])\n",
        "    self.layers['Relu2'] = layers.Relu()\n",
        "    self.layers['Affine2'] = layers.Affine(self.params['W3'], self.params['b3'])\n",
        "\n",
        "    self.last_layer = layers.SoftmaxWithLoss()\n",
        "\n",
        "  def predict(self, x):\n",
        "    for key in self.layers.keys():\n",
        "        x = self.layers[key].forward(x)\n",
        "    return x\n",
        "        \n",
        "  def loss(self, x, d):\n",
        "    y = self.predict(x)\n",
        "    return self.last_layer.forward(y, d)\n",
        "\n",
        "  def accuracy(self, x, d, batch_size=100):\n",
        "    if d.ndim != 1 : d = np.argmax(d, axis=1)\n",
        "        \n",
        "    acc = 0.0\n",
        "        \n",
        "    for i in range(int(x.shape[0] / batch_size)):\n",
        "        tx = x[i*batch_size:(i+1)*batch_size]\n",
        "        td = d[i*batch_size:(i+1)*batch_size]\n",
        "        y = self.predict(tx)\n",
        "        y = np.argmax(y, axis=1)\n",
        "        acc += np.sum(y == td) \n",
        "        \n",
        "    return acc / x.shape[0]\n",
        "\n",
        "  def gradient(self, x, d):\n",
        "    # forward\n",
        "    self.loss(x, d)\n",
        "        \n",
        "    # backward\n",
        "    dout = 1\n",
        "    dout = self.last_layer.backward(dout)\n",
        "    layers = list(self.layers.values())\n",
        "        \n",
        "    layers.reverse()\n",
        "    for layer in layers:\n",
        "        dout = layer.backward(dout)\n",
        "\n",
        "    # 設定\n",
        "    grad = {}\n",
        "    grad['W1'], grad['b1'] = self.layers['Conv1'].dW, self.layers['Conv1'].db\n",
        "    grad['W2'], grad['b2'] = self.layers['Affine1'].dW, self.layers['Affine1'].db\n",
        "    grad['W3'], grad['b3'] = self.layers['Affine2'].dW, self.layers['Affine2'].db\n",
        "\n",
        "    return grad"
      ],
      "metadata": {
        "id": "6fLrMz2aymag"
      },
      "execution_count": 43,
      "outputs": []
    },
    {
      "cell_type": "markdown",
      "source": [
        "学習"
      ],
      "metadata": {
        "id": "8yywf0wD3eDU"
      }
    },
    {
      "cell_type": "code",
      "source": [
        "from common import optimizer\n",
        "\n",
        "# データの読み込み\n",
        "(x_train, d_train), (x_test, d_test) = load_mnist(flatten=False)\n",
        "\n",
        "x_train, d_train = x_train[:5000], d_train[:5000]\n",
        "x_test, d_test = x_test[:1000], d_test[:1000]\n",
        "\n",
        "network = SimpleConvNet(input_dim=(1, 28, 28), conv_param={'filter_num': 30, 'filter_size': 5, 'pad': 0, 'stride':1},\n",
        "                        hidden_size=100, output_size=10, weight_init_std=0.01)\n",
        "optimizer = optimizer.Adam()\n",
        "\n",
        "iters_num = 100\n",
        "train_size = x_train.shape[0]\n",
        "batch_size = 100\n",
        "\n",
        "train_loss_list = []\n",
        "accuracies_train = []\n",
        "accuracies_test = []\n",
        "\n",
        "plot_interval = 10\n",
        "\n",
        "for i in range(iters_num):\n",
        "  batch_mask = np.random.choice(train_size, batch_size)\n",
        "  x_batch = x_train[batch_mask]\n",
        "  d_batch = d_train[batch_mask]\n",
        "\n",
        "  # 勾配\n",
        "  grad = network.gradient(x_batch, d_batch)\n",
        "  optimizer.update(network.params, grad)\n",
        "\n",
        "  loss = network.loss(x_batch, d_batch)\n",
        "  train_loss_list.append(loss)\n",
        "\n",
        "\n",
        "  if (i + 1) % plot_interval == 0:\n",
        "    accr_train = network.accuracy(x_train, d_train)\n",
        "    accuracies_train.append(accr_train)\n",
        "    accr_test = network.accuracy(x_test, d_test)\n",
        "    accuracies_test.append(accr_test)\n",
        "\n",
        "    print('Generation: '+ str(i+1) + '.正答率（train) = ' + str(accr_train))\n",
        "    print('             :' + str(i+1) + '.正答率(test) =' + str(accr_test))\n",
        "\n",
        "lists = range(0, iters_num, plot_interval)\n",
        "plt.plot(lists, accuracies_train, label='training set')\n",
        "plt.plot(lists, accuracies_test, label='test set')\n",
        "plt.legend(loc='lower right')\n",
        "plt.title('accuracy')\n",
        "plt.xlabel('count')\n",
        "plt.ylabel('accuracy')\n",
        "plt.ylim(0, 1.0)\n",
        "# グラフの表示\n",
        "plt.show()\n"
      ],
      "metadata": {
        "colab": {
          "base_uri": "https://localhost:8080/",
          "height": 642
        },
        "id": "RJOYsfkH3gma",
        "outputId": "5d845595-8a7d-435c-8110-7fedf36fd5c8"
      },
      "execution_count": 44,
      "outputs": [
        {
          "output_type": "stream",
          "name": "stdout",
          "text": [
            "Generation: 10.正答率（train) = 0.1822\n",
            "             :10.正答率(test) =0.203\n",
            "Generation: 20.正答率（train) = 0.6038\n",
            "             :20.正答率(test) =0.584\n",
            "Generation: 30.正答率（train) = 0.747\n",
            "             :30.正答率(test) =0.71\n",
            "Generation: 40.正答率（train) = 0.7828\n",
            "             :40.正答率(test) =0.757\n",
            "Generation: 50.正答率（train) = 0.8108\n",
            "             :50.正答率(test) =0.776\n",
            "Generation: 60.正答率（train) = 0.8442\n",
            "             :60.正答率(test) =0.813\n",
            "Generation: 70.正答率（train) = 0.8518\n",
            "             :70.正答率(test) =0.819\n",
            "Generation: 80.正答率（train) = 0.8786\n",
            "             :80.正答率(test) =0.859\n",
            "Generation: 90.正答率（train) = 0.8854\n",
            "             :90.正答率(test) =0.867\n",
            "Generation: 100.正答率（train) = 0.8852\n",
            "             :100.正答率(test) =0.857\n"
          ]
        },
        {
          "output_type": "display_data",
          "data": {
            "image/png": "[encoded data removed]",
            "text/plain": [
              "<Figure size 432x288 with 1 Axes>"
            ]
          },
          "metadata": {
            "needs_background": "light"
          }
        }
      ]
    }
  ]
}